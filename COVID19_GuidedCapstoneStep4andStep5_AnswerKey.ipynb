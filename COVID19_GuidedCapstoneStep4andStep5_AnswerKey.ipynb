{
  "nbformat": 4,
  "nbformat_minor": 0,
  "metadata": {
    "colab": {
      "name": "Copy of COVID19_GuidedCapstoneStep4andStep5-AnswerKey.ipynb",
      "provenance": [],
      "collapsed_sections": []
    },
    "kernelspec": {
      "display_name": "Python 3",
      "language": "python",
      "name": "python3"
    },
    "language_info": {
      "codemirror_mode": {
        "name": "ipython",
        "version": 3
      },
      "file_extension": ".py",
      "mimetype": "text/x-python",
      "name": "python",
      "nbconvert_exporter": "python",
      "pygments_lexer": "ipython3",
      "version": "3.6.6"
    },
    "toc": {
      "base_numbering": "0",
      "nav_menu": {},
      "number_sections": true,
      "sideBar": true,
      "skip_h1_title": false,
      "title_cell": "Table of Contents",
      "title_sidebar": "Contents",
      "toc_cell": true,
      "toc_position": {
        "height": "calc(100% - 180px)",
        "left": "10px",
        "top": "150px",
        "width": "288px"
      },
      "toc_section_display": true,
      "toc_window_display": true
    }
  },
  "cells": [
    {
      "cell_type": "markdown",
      "metadata": {
        "colab_type": "text",
        "id": "cf5CmXQCZyF1"
      },
      "source": [
        "# Guided Capstone Step 4. Pre-processing and Training Data Development - Answer Key"
      ]
    },
    {
      "cell_type": "markdown",
      "metadata": {
        "id": "oLOVvHGjDOkN",
        "colab_type": "text"
      },
      "source": [
        "In the previous step we used Lasso Regression to attempt to model the number of confirmed cases across all reporting countries. It was clear from those results that we needed a more specific approach so we have subset our data to include only the United States for this next step. \n",
        "We are also going to combine steps 4 and 5 of the DSM in this notebook."
      ]
    },
    {
      "cell_type": "markdown",
      "metadata": {
        "colab_type": "text",
        "id": "JbZXsVevfr9M"
      },
      "source": [
        "**The Data Science Method**  \n",
        "\n",
        "\n",
        "1.   Problem Identification \n",
        "\n",
        "\n",
        "2.   Data Wrangling \n",
        "  \n",
        " \n",
        "3.   Exploratory Data Analysis   \n",
        "\n",
        "4.   **Pre-processing and Training Data Development**  \n",
        " * Create dummy or indicator features for categorical variables\n",
        "  * Standardize the magnitude of numeric features\n",
        "  * Split into testing and training datasets\n",
        "  * Apply scaler to the testing set\n",
        "5.   **Modeling** \n",
        "  * Fit Models with Training Data Set\n",
        "  * Review Model Outcomes — Iterate over additional models as needed.\n",
        "  * Identify the Final Model\n",
        "\n",
        "6.   Documentation\n",
        "  * Review the Results\n",
        "  * Present and share your findings - storytelling\n",
        "  * Finalize Code \n",
        "  * Finalize Documentation"
      ]
    },
    {
      "cell_type": "markdown",
      "metadata": {
        "colab_type": "text",
        "id": "K8xfkAqqZyF2"
      },
      "source": [
        "**<font color='DarkBlue'> Start by loading the necessary packages as we did in step 3 and printing out our current working directory just to confirm we are in the correct project directory. </font>**"
      ]
    },
    {
      "cell_type": "code",
      "metadata": {
        "colab_type": "code",
        "id": "ry6WPL5eZyF3",
        "outputId": "ad2f7e96-c45c-46ab-de72-6446fd5e682e",
        "colab": {
          "base_uri": "https://localhost:8080/",
          "height": 88
        }
      },
      "source": [
        "import os\n",
        "import pandas as pd\n",
        "import datetime\n",
        "import seaborn as sns\n",
        "from matplotlib import pyplot as plt\n",
        "import json\n",
        "%matplotlib inline\n",
        "import plotly.graph_objects as go \n",
        "import numpy as np\n",
        "from sklearn.impute import SimpleImputer\n",
        "from sklearn import preprocessing\n",
        "from sklearn.linear_model import Lasso\n",
        "from sklearn.model_selection import cross_val_score\n",
        "from sklearn.metrics import mean_squared_error,explained_variance_score,mean_absolute_error\n",
        "from math import sqrt\n",
        "from sklearn.metrics import explained_variance_score\n",
        "os.listdir()"
      ],
      "execution_count": 0,
      "outputs": [
        {
          "output_type": "stream",
          "text": [
            "/usr/local/lib/python3.6/dist-packages/statsmodels/tools/_testing.py:19: FutureWarning: pandas.util.testing is deprecated. Use the functions in the public API at pandas.testing instead.\n",
            "  import pandas.util.testing as tm\n"
          ],
          "name": "stderr"
        },
        {
          "output_type": "execute_result",
          "data": {
            "text/plain": [
              "['.config', 'sample_data']"
            ]
          },
          "metadata": {
            "tags": []
          },
          "execution_count": 1
        }
      ]
    },
    {
      "cell_type": "markdown",
      "metadata": {
        "colab_type": "text",
        "id": "630T-ogRZyF8"
      },
      "source": [
        "**<font color='DarkBlue'> If you need to change your path refer back to the notebook on steps 1 & 2 on how to do that. Then load the csv file you created in step 3, remember it should be saved inside your data subfolder and print the first five rows.</font>**"
      ]
    },
    {
      "cell_type": "code",
      "metadata": {
        "colab_type": "code",
        "id": "dMNbk0u3ZyF9",
        "outputId": "666d8899-0a81-4d18-cd4e-f0c9e6fe4b1d",
        "colab": {
          "base_uri": "https://localhost:8080/",
          "height": 338
        }
      },
      "source": [
        "file='https://raw.githubusercontent.com/AVJdataminer/COVID19_GC/master/%20data/step3_output.csv'\n",
        "df=pd.read_csv(file)\n",
        "df.head()"
      ],
      "execution_count": 0,
      "outputs": [
        {
          "output_type": "execute_result",
          "data": {
            "text/html": [
              "<div>\n",
              "<style scoped>\n",
              "    .dataframe tbody tr th:only-of-type {\n",
              "        vertical-align: middle;\n",
              "    }\n",
              "\n",
              "    .dataframe tbody tr th {\n",
              "        vertical-align: top;\n",
              "    }\n",
              "\n",
              "    .dataframe thead th {\n",
              "        text-align: right;\n",
              "    }\n",
              "</style>\n",
              "<table border=\"1\" class=\"dataframe\">\n",
              "  <thead>\n",
              "    <tr style=\"text-align: right;\">\n",
              "      <th></th>\n",
              "      <th>confirmed</th>\n",
              "      <th>deaths</th>\n",
              "      <th>timestamp</th>\n",
              "      <th>province_state</th>\n",
              "      <th>long</th>\n",
              "      <th>country_region</th>\n",
              "      <th>timestamp.date</th>\n",
              "      <th>lat</th>\n",
              "      <th>recovered</th>\n",
              "      <th>date</th>\n",
              "      <th>month</th>\n",
              "      <th>day</th>\n",
              "      <th>doy</th>\n",
              "      <th>confirmed_1_day_pct_change</th>\n",
              "      <th>recovered_1_day_pct_change</th>\n",
              "      <th>deaths_1_day_pct_change</th>\n",
              "      <th>confirmed_2_day_pct_change</th>\n",
              "      <th>recovered_2_day_pct_change</th>\n",
              "      <th>deaths_2_day_pct_change</th>\n",
              "      <th>confirmed_3_day_pct_change</th>\n",
              "      <th>recovered_3_day_pct_change</th>\n",
              "      <th>deaths_3_day_pct_change</th>\n",
              "      <th>confirmed_4_day_pct_change</th>\n",
              "      <th>recovered_4_day_pct_change</th>\n",
              "      <th>deaths_4_day_pct_change</th>\n",
              "      <th>confirmed_5_day_pct_change</th>\n",
              "      <th>recovered_5_day_pct_change</th>\n",
              "      <th>deaths_5_day_pct_change</th>\n",
              "      <th>confirmed_6_day_pct_change</th>\n",
              "      <th>recovered_6_day_pct_change</th>\n",
              "      <th>deaths_6_day_pct_change</th>\n",
              "      <th>confirmed_7_day_pct_change</th>\n",
              "      <th>recovered_7_day_pct_change</th>\n",
              "      <th>deaths_7_day_pct_change</th>\n",
              "      <th>confirmed_8_day_pct_change</th>\n",
              "      <th>recovered_8_day_pct_change</th>\n",
              "      <th>deaths_8_day_pct_change</th>\n",
              "      <th>confirmed_9_day_pct_change</th>\n",
              "      <th>recovered_9_day_pct_change</th>\n",
              "      <th>deaths_9_day_pct_change</th>\n",
              "      <th>...</th>\n",
              "      <th>deaths_16_day_pct_change</th>\n",
              "      <th>confirmed_17_day_pct_change</th>\n",
              "      <th>recovered_17_day_pct_change</th>\n",
              "      <th>deaths_17_day_pct_change</th>\n",
              "      <th>confirmed_18_day_pct_change</th>\n",
              "      <th>recovered_18_day_pct_change</th>\n",
              "      <th>deaths_18_day_pct_change</th>\n",
              "      <th>confirmed_19_day_pct_change</th>\n",
              "      <th>recovered_19_day_pct_change</th>\n",
              "      <th>deaths_19_day_pct_change</th>\n",
              "      <th>confirmed_20_day_pct_change</th>\n",
              "      <th>recovered_20_day_pct_change</th>\n",
              "      <th>deaths_20_day_pct_change</th>\n",
              "      <th>confirmed_21_day_pct_change</th>\n",
              "      <th>recovered_21_day_pct_change</th>\n",
              "      <th>deaths_21_day_pct_change</th>\n",
              "      <th>confirmed_22_day_pct_change</th>\n",
              "      <th>recovered_22_day_pct_change</th>\n",
              "      <th>deaths_22_day_pct_change</th>\n",
              "      <th>confirmed_23_day_pct_change</th>\n",
              "      <th>recovered_23_day_pct_change</th>\n",
              "      <th>deaths_23_day_pct_change</th>\n",
              "      <th>confirmed_24_day_pct_change</th>\n",
              "      <th>recovered_24_day_pct_change</th>\n",
              "      <th>deaths_24_day_pct_change</th>\n",
              "      <th>confirmed_25_day_pct_change</th>\n",
              "      <th>recovered_25_day_pct_change</th>\n",
              "      <th>deaths_25_day_pct_change</th>\n",
              "      <th>confirmed_26_day_pct_change</th>\n",
              "      <th>recovered_26_day_pct_change</th>\n",
              "      <th>deaths_26_day_pct_change</th>\n",
              "      <th>confirmed_27_day_pct_change</th>\n",
              "      <th>recovered_27_day_pct_change</th>\n",
              "      <th>deaths_27_day_pct_change</th>\n",
              "      <th>confirmed_28_day_pct_change</th>\n",
              "      <th>recovered_28_day_pct_change</th>\n",
              "      <th>deaths_28_day_pct_change</th>\n",
              "      <th>confirmed_29_day_pct_change</th>\n",
              "      <th>recovered_29_day_pct_change</th>\n",
              "      <th>deaths_29_day_pct_change</th>\n",
              "    </tr>\n",
              "  </thead>\n",
              "  <tbody>\n",
              "    <tr>\n",
              "      <th>0</th>\n",
              "      <td>839675.0</td>\n",
              "      <td>46583.0</td>\n",
              "      <td>1587556800</td>\n",
              "      <td>missing</td>\n",
              "      <td>-95.7129</td>\n",
              "      <td>US</td>\n",
              "      <td>2020-04-22</td>\n",
              "      <td>37902.0</td>\n",
              "      <td>77366.0</td>\n",
              "      <td>2020-04-22</td>\n",
              "      <td>4</td>\n",
              "      <td>2</td>\n",
              "      <td>113</td>\n",
              "      <td>0.019288</td>\n",
              "      <td>0.028748</td>\n",
              "      <td>0.038756</td>\n",
              "      <td>0.070569</td>\n",
              "      <td>0.069640</td>\n",
              "      <td>0.106642</td>\n",
              "      <td>0.106166</td>\n",
              "      <td>0.099933</td>\n",
              "      <td>0.145643</td>\n",
              "      <td>0.146788</td>\n",
              "      <td>0.193183</td>\n",
              "      <td>0.204816</td>\n",
              "      <td>0.200040</td>\n",
              "      <td>0.321479</td>\n",
              "      <td>0.266772</td>\n",
              "      <td>0.257373</td>\n",
              "      <td>0.414292</td>\n",
              "      <td>0.415208</td>\n",
              "      <td>0.319518</td>\n",
              "      <td>0.485066</td>\n",
              "      <td>0.644590</td>\n",
              "      <td>0.381794</td>\n",
              "      <td>0.619789</td>\n",
              "      <td>0.803306</td>\n",
              "      <td>0.446172</td>\n",
              "      <td>0.779265</td>\n",
              "      <td>0.979812</td>\n",
              "      <td>...</td>\n",
              "      <td>3.320041</td>\n",
              "      <td>1.491085</td>\n",
              "      <td>3.434090</td>\n",
              "      <td>3.842811</td>\n",
              "      <td>1.718715</td>\n",
              "      <td>4.280235</td>\n",
              "      <td>4.540978</td>\n",
              "      <td>2.046871</td>\n",
              "      <td>6.970125</td>\n",
              "      <td>5.573021</td>\n",
              "      <td>2.449023</td>\n",
              "      <td>7.595267</td>\n",
              "      <td>6.860783</td>\n",
              "      <td>2.935263</td>\n",
              "      <td>8.129809</td>\n",
              "      <td>8.792516</td>\n",
              "      <td>3.462274</td>\n",
              "      <td>10.014522</td>\n",
              "      <td>11.027627</td>\n",
              "      <td>4.189361</td>\n",
              "      <td>12.707654</td>\n",
              "      <td>14.642377</td>\n",
              "      <td>4.959961</td>\n",
              "      <td>28.030394</td>\n",
              "      <td>17.882448</td>\n",
              "      <td>5.912157</td>\n",
              "      <td>71.169776</td>\n",
              "      <td>21.992596</td>\n",
              "      <td>7.259884</td>\n",
              "      <td>88.028769</td>\n",
              "      <td>28.464263</td>\n",
              "      <td>9.015685</td>\n",
              "      <td>NaN</td>\n",
              "      <td>37.530190</td>\n",
              "      <td>11.765286</td>\n",
              "      <td>NaN</td>\n",
              "      <td>48.451168</td>\n",
              "      <td>18.150113</td>\n",
              "      <td>NaN</td>\n",
              "      <td>82.631957</td>\n",
              "    </tr>\n",
              "    <tr>\n",
              "      <th>1</th>\n",
              "      <td>823786.0</td>\n",
              "      <td>44845.0</td>\n",
              "      <td>1587470400</td>\n",
              "      <td>missing</td>\n",
              "      <td>-95.7129</td>\n",
              "      <td>US</td>\n",
              "      <td>2020-04-21</td>\n",
              "      <td>37902.0</td>\n",
              "      <td>75204.0</td>\n",
              "      <td>2020-04-21</td>\n",
              "      <td>4</td>\n",
              "      <td>1</td>\n",
              "      <td>112</td>\n",
              "      <td>0.050311</td>\n",
              "      <td>0.039749</td>\n",
              "      <td>0.065354</td>\n",
              "      <td>0.085234</td>\n",
              "      <td>0.069195</td>\n",
              "      <td>0.102900</td>\n",
              "      <td>0.125088</td>\n",
              "      <td>0.159840</td>\n",
              "      <td>0.159864</td>\n",
              "      <td>0.177332</td>\n",
              "      <td>0.284550</td>\n",
              "      <td>0.219509</td>\n",
              "      <td>0.233580</td>\n",
              "      <td>0.374769</td>\n",
              "      <td>0.362407</td>\n",
              "      <td>0.294549</td>\n",
              "      <td>0.443566</td>\n",
              "      <td>0.583230</td>\n",
              "      <td>0.355647</td>\n",
              "      <td>0.574524</td>\n",
              "      <td>0.736025</td>\n",
              "      <td>0.418806</td>\n",
              "      <td>0.729543</td>\n",
              "      <td>0.905946</td>\n",
              "      <td>0.483462</td>\n",
              "      <td>1.279738</td>\n",
              "      <td>1.036558</td>\n",
              "      <td>...</td>\n",
              "      <td>3.662127</td>\n",
              "      <td>1.667269</td>\n",
              "      <td>4.132678</td>\n",
              "      <td>4.334245</td>\n",
              "      <td>1.989216</td>\n",
              "      <td>6.747399</td>\n",
              "      <td>5.327783</td>\n",
              "      <td>2.383758</td>\n",
              "      <td>7.355072</td>\n",
              "      <td>6.567499</td>\n",
              "      <td>2.860797</td>\n",
              "      <td>7.874675</td>\n",
              "      <td>8.427160</td>\n",
              "      <td>3.377835</td>\n",
              "      <td>9.706720</td>\n",
              "      <td>10.578879</td>\n",
              "      <td>4.091164</td>\n",
              "      <td>12.324592</td>\n",
              "      <td>14.058764</td>\n",
              "      <td>4.847181</td>\n",
              "      <td>27.219137</td>\n",
              "      <td>17.177949</td>\n",
              "      <td>5.781360</td>\n",
              "      <td>69.152985</td>\n",
              "      <td>21.134748</td>\n",
              "      <td>7.103584</td>\n",
              "      <td>85.540852</td>\n",
              "      <td>27.364959</td>\n",
              "      <td>8.826161</td>\n",
              "      <td>NaN</td>\n",
              "      <td>36.092639</td>\n",
              "      <td>11.523731</td>\n",
              "      <td>NaN</td>\n",
              "      <td>46.606157</td>\n",
              "      <td>17.787739</td>\n",
              "      <td>NaN</td>\n",
              "      <td>79.511670</td>\n",
              "      <td>23.756161</td>\n",
              "      <td>NaN</td>\n",
              "      <td>106.541966</td>\n",
              "    </tr>\n",
              "    <tr>\n",
              "      <th>2</th>\n",
              "      <td>784326.0</td>\n",
              "      <td>42094.0</td>\n",
              "      <td>1587384000</td>\n",
              "      <td>missing</td>\n",
              "      <td>-95.7129</td>\n",
              "      <td>US</td>\n",
              "      <td>2020-04-20</td>\n",
              "      <td>37902.0</td>\n",
              "      <td>72329.0</td>\n",
              "      <td>2020-04-20</td>\n",
              "      <td>4</td>\n",
              "      <td>0</td>\n",
              "      <td>111</td>\n",
              "      <td>0.033251</td>\n",
              "      <td>0.028321</td>\n",
              "      <td>0.035243</td>\n",
              "      <td>0.071195</td>\n",
              "      <td>0.115500</td>\n",
              "      <td>0.088713</td>\n",
              "      <td>0.120937</td>\n",
              "      <td>0.235443</td>\n",
              "      <td>0.144699</td>\n",
              "      <td>0.174491</td>\n",
              "      <td>0.322213</td>\n",
              "      <td>0.278831</td>\n",
              "      <td>0.232539</td>\n",
              "      <td>0.388379</td>\n",
              "      <td>0.486108</td>\n",
              "      <td>0.290710</td>\n",
              "      <td>0.514331</td>\n",
              "      <td>0.629529</td>\n",
              "      <td>0.350845</td>\n",
              "      <td>0.663424</td>\n",
              "      <td>0.789026</td>\n",
              "      <td>0.412403</td>\n",
              "      <td>1.192585</td>\n",
              "      <td>0.911626</td>\n",
              "      <td>0.489992</td>\n",
              "      <td>1.313048</td>\n",
              "      <td>1.057079</td>\n",
              "      <td>...</td>\n",
              "      <td>4.007018</td>\n",
              "      <td>1.846030</td>\n",
              "      <td>6.451221</td>\n",
              "      <td>4.939608</td>\n",
              "      <td>2.221673</td>\n",
              "      <td>7.035663</td>\n",
              "      <td>6.103274</td>\n",
              "      <td>2.675862</td>\n",
              "      <td>7.535402</td>\n",
              "      <td>7.848854</td>\n",
              "      <td>3.168133</td>\n",
              "      <td>9.297409</td>\n",
              "      <td>9.868577</td>\n",
              "      <td>3.847293</td>\n",
              "      <td>11.815202</td>\n",
              "      <td>13.134990</td>\n",
              "      <td>4.567097</td>\n",
              "      <td>26.140338</td>\n",
              "      <td>16.062829</td>\n",
              "      <td>5.456527</td>\n",
              "      <td>66.471082</td>\n",
              "      <td>19.776900</td>\n",
              "      <td>6.715416</td>\n",
              "      <td>82.232451</td>\n",
              "      <td>25.624921</td>\n",
              "      <td>8.355480</td>\n",
              "      <td>NaN</td>\n",
              "      <td>33.817204</td>\n",
              "      <td>10.923835</td>\n",
              "      <td>NaN</td>\n",
              "      <td>43.685775</td>\n",
              "      <td>16.887792</td>\n",
              "      <td>NaN</td>\n",
              "      <td>74.572711</td>\n",
              "      <td>22.570321</td>\n",
              "      <td>NaN</td>\n",
              "      <td>99.944844</td>\n",
              "      <td>29.771156</td>\n",
              "      <td>NaN</td>\n",
              "      <td>136.114007</td>\n",
              "    </tr>\n",
              "    <tr>\n",
              "      <th>3</th>\n",
              "      <td>759086.0</td>\n",
              "      <td>40661.0</td>\n",
              "      <td>1587297600</td>\n",
              "      <td>missing</td>\n",
              "      <td>-95.7129</td>\n",
              "      <td>US</td>\n",
              "      <td>2020-04-19</td>\n",
              "      <td>37902.0</td>\n",
              "      <td>70337.0</td>\n",
              "      <td>2020-04-19</td>\n",
              "      <td>4</td>\n",
              "      <td>6</td>\n",
              "      <td>110</td>\n",
              "      <td>0.036724</td>\n",
              "      <td>0.084778</td>\n",
              "      <td>0.051650</td>\n",
              "      <td>0.084864</td>\n",
              "      <td>0.201418</td>\n",
              "      <td>0.105730</td>\n",
              "      <td>0.136695</td>\n",
              "      <td>0.285798</td>\n",
              "      <td>0.235296</td>\n",
              "      <td>0.192875</td>\n",
              "      <td>0.350142</td>\n",
              "      <td>0.435516</td>\n",
              "      <td>0.249175</td>\n",
              "      <td>0.472625</td>\n",
              "      <td>0.574055</td>\n",
              "      <td>0.307374</td>\n",
              "      <td>0.617612</td>\n",
              "      <td>0.728123</td>\n",
              "      <td>0.366952</td>\n",
              "      <td>1.132200</td>\n",
              "      <td>0.846549</td>\n",
              "      <td>0.442044</td>\n",
              "      <td>1.249344</td>\n",
              "      <td>0.987050</td>\n",
              "      <td>0.528766</td>\n",
              "      <td>1.443105</td>\n",
              "      <td>1.187722</td>\n",
              "      <td>...</td>\n",
              "      <td>4.737407</td>\n",
              "      <td>2.117998</td>\n",
              "      <td>6.814354</td>\n",
              "      <td>5.861458</td>\n",
              "      <td>2.557571</td>\n",
              "      <td>7.300330</td>\n",
              "      <td>7.547614</td>\n",
              "      <td>3.034001</td>\n",
              "      <td>9.013810</td>\n",
              "      <td>9.498580</td>\n",
              "      <td>3.691305</td>\n",
              "      <td>11.462261</td>\n",
              "      <td>12.653794</td>\n",
              "      <td>4.387945</td>\n",
              "      <td>25.392871</td>\n",
              "      <td>15.481962</td>\n",
              "      <td>5.248753</td>\n",
              "      <td>64.612873</td>\n",
              "      <td>19.069595</td>\n",
              "      <td>6.467130</td>\n",
              "      <td>79.940161</td>\n",
              "      <td>24.718533</td>\n",
              "      <td>8.054416</td>\n",
              "      <td>NaN</td>\n",
              "      <td>32.631927</td>\n",
              "      <td>10.540120</td>\n",
              "      <td>NaN</td>\n",
              "      <td>42.164544</td>\n",
              "      <td>16.312154</td>\n",
              "      <td>NaN</td>\n",
              "      <td>72.000000</td>\n",
              "      <td>21.811816</td>\n",
              "      <td>NaN</td>\n",
              "      <td>96.508393</td>\n",
              "      <td>28.780925</td>\n",
              "      <td>NaN</td>\n",
              "      <td>131.446254</td>\n",
              "      <td>38.742723</td>\n",
              "      <td>NaN</td>\n",
              "      <td>165.643443</td>\n",
              "    </tr>\n",
              "    <tr>\n",
              "      <th>4</th>\n",
              "      <td>732197.0</td>\n",
              "      <td>38664.0</td>\n",
              "      <td>1587211200</td>\n",
              "      <td>missing</td>\n",
              "      <td>-95.7129</td>\n",
              "      <td>US</td>\n",
              "      <td>2020-04-18</td>\n",
              "      <td>37902.0</td>\n",
              "      <td>64840.0</td>\n",
              "      <td>2020-04-18</td>\n",
              "      <td>4</td>\n",
              "      <td>5</td>\n",
              "      <td>109</td>\n",
              "      <td>0.046435</td>\n",
              "      <td>0.107524</td>\n",
              "      <td>0.051424</td>\n",
              "      <td>0.096430</td>\n",
              "      <td>0.185310</td>\n",
              "      <td>0.174626</td>\n",
              "      <td>0.150620</td>\n",
              "      <td>0.244625</td>\n",
              "      <td>0.365013</td>\n",
              "      <td>0.204925</td>\n",
              "      <td>0.357536</td>\n",
              "      <td>0.496748</td>\n",
              "      <td>0.261063</td>\n",
              "      <td>0.491192</td>\n",
              "      <td>0.643249</td>\n",
              "      <td>0.318530</td>\n",
              "      <td>0.965563</td>\n",
              "      <td>0.755858</td>\n",
              "      <td>0.390962</td>\n",
              "      <td>1.073553</td>\n",
              "      <td>0.889459</td>\n",
              "      <td>0.474613</td>\n",
              "      <td>1.252171</td>\n",
              "      <td>1.080275</td>\n",
              "      <td>0.586776</td>\n",
              "      <td>1.551751</td>\n",
              "      <td>1.346401</td>\n",
              "      <td>...</td>\n",
              "      <td>5.524468</td>\n",
              "      <td>2.431551</td>\n",
              "      <td>6.651640</td>\n",
              "      <td>7.127812</td>\n",
              "      <td>2.891105</td>\n",
              "      <td>8.231207</td>\n",
              "      <td>8.982959</td>\n",
              "      <td>3.525126</td>\n",
              "      <td>10.488306</td>\n",
              "      <td>11.983210</td>\n",
              "      <td>4.197088</td>\n",
              "      <td>23.330206</td>\n",
              "      <td>14.672477</td>\n",
              "      <td>5.027404</td>\n",
              "      <td>59.485075</td>\n",
              "      <td>18.083909</td>\n",
              "      <td>6.202623</td>\n",
              "      <td>73.614499</td>\n",
              "      <td>23.455408</td>\n",
              "      <td>7.733682</td>\n",
              "      <td>NaN</td>\n",
              "      <td>30.980149</td>\n",
              "      <td>10.131336</td>\n",
              "      <td>NaN</td>\n",
              "      <td>40.044586</td>\n",
              "      <td>15.698908</td>\n",
              "      <td>NaN</td>\n",
              "      <td>68.414722</td>\n",
              "      <td>21.003756</td>\n",
              "      <td>NaN</td>\n",
              "      <td>91.719424</td>\n",
              "      <td>27.725999</td>\n",
              "      <td>NaN</td>\n",
              "      <td>124.941368</td>\n",
              "      <td>37.334921</td>\n",
              "      <td>NaN</td>\n",
              "      <td>157.459016</td>\n",
              "      <td>52.534913</td>\n",
              "      <td>NaN</td>\n",
              "      <td>192.320000</td>\n",
              "    </tr>\n",
              "  </tbody>\n",
              "</table>\n",
              "<p>5 rows × 100 columns</p>\n",
              "</div>"
            ],
            "text/plain": [
              "   confirmed   deaths  ...  recovered_29_day_pct_change deaths_29_day_pct_change\n",
              "0   839675.0  46583.0  ...                          NaN                82.631957\n",
              "1   823786.0  44845.0  ...                          NaN               106.541966\n",
              "2   784326.0  42094.0  ...                          NaN               136.114007\n",
              "3   759086.0  40661.0  ...                          NaN               165.643443\n",
              "4   732197.0  38664.0  ...                          NaN               192.320000\n",
              "\n",
              "[5 rows x 100 columns]"
            ]
          },
          "metadata": {
            "tags": []
          },
          "execution_count": 2
        }
      ]
    },
    {
      "cell_type": "markdown",
      "metadata": {
        "id": "FnvxoTCjDOkY",
        "colab_type": "text"
      },
      "source": [
        "Let's create the same plot we created in step 3 for only the US data over the same timeframe."
      ]
    },
    {
      "cell_type": "code",
      "metadata": {
        "colab_type": "code",
        "id": "UI0DRGj9kauE",
        "colab": {}
      },
      "source": [
        "#create summarized counts for plot\n",
        "ds = df.groupby(['timestamp.date']).agg({'confirmed':'sum','deaths':'sum', 'recovered':'sum'}).reset_index()"
      ],
      "execution_count": 0,
      "outputs": []
    },
    {
      "cell_type": "code",
      "metadata": {
        "colab_type": "code",
        "id": "LiTtMkb_kx8H",
        "outputId": "2d68c777-b997-4f96-cde5-14ca7adef386",
        "colab": {
          "base_uri": "https://localhost:8080/",
          "height": 542
        }
      },
      "source": [
        "#create plot\n",
        "fig = go.Figure()\n",
        "fig.add_trace(go.Scatter(\n",
        "                x=ds['timestamp.date'],\n",
        "                y=ds['confirmed'],\n",
        "                name=\"confirmed\",\n",
        "                line_color='red',\n",
        "                opacity=0.8))\n",
        "fig.add_trace(go.Scatter(\n",
        "                x=ds['timestamp.date'],\n",
        "                y=ds['deaths'],\n",
        "                name=\"deaths\",\n",
        "                line_color='dimgray',\n",
        "                opacity=0.8))\n",
        "fig.add_trace(go.Scatter(\n",
        "                x=ds['timestamp.date'],\n",
        "                y=ds['recovered'],\n",
        "                name=\"recovered\",\n",
        "                line_color='green',\n",
        "                opacity=0.8))\n",
        "\n",
        "# Use date string to set xaxis range\n",
        "fig.update_layout(xaxis_range=['2020-01-22','2020-04-22'],\n",
        "                  title_text=\"COVID-19 US Confirmed Cases\")\n",
        "fig.show()"
      ],
      "execution_count": 0,
      "outputs": [
        {
          "output_type": "display_data",
          "data": {
            "text/html": [
              "<html>\n",
              "<head><meta charset=\"utf-8\" /></head>\n",
              "<body>\n",
              "    <div>\n",
              "            <script src=\"https://cdnjs.cloudflare.com/ajax/libs/mathjax/2.7.5/MathJax.js?config=TeX-AMS-MML_SVG\"></script><script type=\"text/javascript\">if (window.MathJax) {MathJax.Hub.Config({SVG: {font: \"STIX-Web\"}});}</script>\n",
              "                <script type=\"text/javascript\">window.PlotlyConfig = {MathJaxConfig: 'local'};</script>\n",
              "        <script src=\"https://cdn.plot.ly/plotly-latest.min.js\"></script>    \n",
              "            <div id=\"313aa506-3b61-4fcd-b284-7b5b155af4db\" class=\"plotly-graph-div\" style=\"height:525px; width:100%;\"></div>\n",
              "            <script type=\"text/javascript\">\n",
              "                \n",
              "                    window.PLOTLYENV=window.PLOTLYENV || {};\n",
              "                    \n",
              "                if (document.getElementById(\"313aa506-3b61-4fcd-b284-7b5b155af4db\")) {\n",
              "                    Plotly.newPlot(\n",
              "                        '313aa506-3b61-4fcd-b284-7b5b155af4db',\n",
              "                        [{\"line\": {\"color\": \"red\"}, \"name\": \"confirmed\", \"opacity\": 0.8, \"type\": \"scatter\", \"x\": [\"2020-01-22\", \"2020-01-23\", \"2020-01-24\", \"2020-01-25\", \"2020-01-26\", \"2020-01-27\", \"2020-01-28\", \"2020-01-29\", \"2020-01-30\", \"2020-01-31\", \"2020-02-01\", \"2020-02-02\", \"2020-02-03\", \"2020-02-04\", \"2020-02-05\", \"2020-02-06\", \"2020-02-07\", \"2020-02-08\", \"2020-02-09\", \"2020-02-10\", \"2020-02-11\", \"2020-02-12\", \"2020-02-13\", \"2020-02-14\", \"2020-02-15\", \"2020-02-16\", \"2020-02-17\", \"2020-02-18\", \"2020-02-19\", \"2020-02-20\", \"2020-02-21\", \"2020-02-22\", \"2020-02-23\", \"2020-02-24\", \"2020-02-25\", \"2020-02-26\", \"2020-02-27\", \"2020-02-28\", \"2020-02-29\", \"2020-03-01\", \"2020-03-02\", \"2020-03-03\", \"2020-03-04\", \"2020-03-05\", \"2020-03-06\", \"2020-03-07\", \"2020-03-08\", \"2020-03-09\", \"2020-03-10\", \"2020-03-11\", \"2020-03-12\", \"2020-03-13\", \"2020-03-14\", \"2020-03-15\", \"2020-03-16\", \"2020-03-17\", \"2020-03-18\", \"2020-03-19\", \"2020-03-20\", \"2020-03-21\", \"2020-03-22\", \"2020-03-23\", \"2020-03-25\", \"2020-03-26\", \"2020-03-27\", \"2020-03-28\", \"2020-03-29\", \"2020-03-30\", \"2020-03-31\", \"2020-04-01\", \"2020-04-02\", \"2020-04-03\", \"2020-04-04\", \"2020-04-05\", \"2020-04-06\", \"2020-04-07\", \"2020-04-08\", \"2020-04-09\", \"2020-04-10\", \"2020-04-11\", \"2020-04-12\", \"2020-04-13\", \"2020-04-14\", \"2020-04-15\", \"2020-04-16\", \"2020-04-17\", \"2020-04-18\", \"2020-04-19\", \"2020-04-20\", \"2020-04-21\", \"2020-04-22\"], \"y\": [1.0, 1.0, 2.0, 2.0, 5.0, 5.0, 5.0, 5.0, 5.0, 7.0, 8.0, 8.0, 11.0, 11.0, 11.0, 11.0, 11.0, 11.0, 11.0, 11.0, 12.0, 12.0, 13.0, 13.0, 13.0, 13.0, 13.0, 13.0, 13.0, 13.0, 15.0, 15.0, 15.0, 51.0, 51.0, 57.0, 58.0, 60.0, 68.0, 74.0, 98.0, 118.0, 149.0, 217.0, 262.0, 402.0, 518.0, 583.0, 959.0, 1281.0, 1663.0, 2179.0, 2727.0, 3499.0, 4632.0, 6421.0, 7783.0, 13677.0, 19100.0, 25489.0, 33276.0, 43847.0, 65778.0, 83836.0, 101657.0, 121478.0, 140886.0, 161807.0, 188172.0, 213372.0, 243453.0, 275586.0, 308850.0, 337072.0, 366614.0, 396223.0, 429052.0, 461437.0, 496535.0, 526396.0, 555313.0, 580619.0, 607670.0, 636350.0, 667801.0, 699706.0, 732197.0, 759086.0, 784326.0, 823786.0, 839675.0]}, {\"line\": {\"color\": \"dimgray\"}, \"name\": \"deaths\", \"opacity\": 0.8, \"type\": \"scatter\", \"x\": [\"2020-01-22\", \"2020-01-23\", \"2020-01-24\", \"2020-01-25\", \"2020-01-26\", \"2020-01-27\", \"2020-01-28\", \"2020-01-29\", \"2020-01-30\", \"2020-01-31\", \"2020-02-01\", \"2020-02-02\", \"2020-02-03\", \"2020-02-04\", \"2020-02-05\", \"2020-02-06\", \"2020-02-07\", \"2020-02-08\", \"2020-02-09\", \"2020-02-10\", \"2020-02-11\", \"2020-02-12\", \"2020-02-13\", \"2020-02-14\", \"2020-02-15\", \"2020-02-16\", \"2020-02-17\", \"2020-02-18\", \"2020-02-19\", \"2020-02-20\", \"2020-02-21\", \"2020-02-22\", \"2020-02-23\", \"2020-02-24\", \"2020-02-25\", \"2020-02-26\", \"2020-02-27\", \"2020-02-28\", \"2020-02-29\", \"2020-03-01\", \"2020-03-02\", \"2020-03-03\", \"2020-03-04\", \"2020-03-05\", \"2020-03-06\", \"2020-03-07\", \"2020-03-08\", \"2020-03-09\", \"2020-03-10\", \"2020-03-11\", \"2020-03-12\", \"2020-03-13\", \"2020-03-14\", \"2020-03-15\", \"2020-03-16\", \"2020-03-17\", \"2020-03-18\", \"2020-03-19\", \"2020-03-20\", \"2020-03-21\", \"2020-03-22\", \"2020-03-23\", \"2020-03-25\", \"2020-03-26\", \"2020-03-27\", \"2020-03-28\", \"2020-03-29\", \"2020-03-30\", \"2020-03-31\", \"2020-04-01\", \"2020-04-02\", \"2020-04-03\", \"2020-04-04\", \"2020-04-05\", \"2020-04-06\", \"2020-04-07\", \"2020-04-08\", \"2020-04-09\", \"2020-04-10\", \"2020-04-11\", \"2020-04-12\", \"2020-04-13\", \"2020-04-14\", \"2020-04-15\", \"2020-04-16\", \"2020-04-17\", \"2020-04-18\", \"2020-04-19\", \"2020-04-20\", \"2020-04-21\", \"2020-04-22\"], \"y\": [0.0, 0.0, 0.0, 0.0, 0.0, 0.0, 0.0, 0.0, 0.0, 0.0, 0.0, 0.0, 0.0, 0.0, 0.0, 0.0, 0.0, 0.0, 0.0, 0.0, 0.0, 0.0, 0.0, 0.0, 0.0, 0.0, 0.0, 0.0, 0.0, 0.0, 0.0, 0.0, 0.0, 0.0, 0.0, 0.0, 0.0, 0.0, 1.0, 1.0, 6.0, 7.0, 11.0, 12.0, 14.0, 17.0, 21.0, 22.0, 28.0, 36.0, 40.0, 47.0, 54.0, 63.0, 85.0, 108.0, 118.0, 200.0, 244.0, 307.0, 417.0, 557.0, 942.0, 1209.0, 1581.0, 2026.0, 2467.0, 2978.0, 3873.0, 4757.0, 5926.0, 7087.0, 8407.0, 9619.0, 10783.0, 12722.0, 14695.0, 16478.0, 18586.0, 20463.0, 22020.0, 23529.0, 25832.0, 28325.0, 32916.0, 36773.0, 38664.0, 40661.0, 42094.0, 44845.0, 46583.0]}, {\"line\": {\"color\": \"green\"}, \"name\": \"recovered\", \"opacity\": 0.8, \"type\": \"scatter\", \"x\": [\"2020-01-22\", \"2020-01-23\", \"2020-01-24\", \"2020-01-25\", \"2020-01-26\", \"2020-01-27\", \"2020-01-28\", \"2020-01-29\", \"2020-01-30\", \"2020-01-31\", \"2020-02-01\", \"2020-02-02\", \"2020-02-03\", \"2020-02-04\", \"2020-02-05\", \"2020-02-06\", \"2020-02-07\", \"2020-02-08\", \"2020-02-09\", \"2020-02-10\", \"2020-02-11\", \"2020-02-12\", \"2020-02-13\", \"2020-02-14\", \"2020-02-15\", \"2020-02-16\", \"2020-02-17\", \"2020-02-18\", \"2020-02-19\", \"2020-02-20\", \"2020-02-21\", \"2020-02-22\", \"2020-02-23\", \"2020-02-24\", \"2020-02-25\", \"2020-02-26\", \"2020-02-27\", \"2020-02-28\", \"2020-02-29\", \"2020-03-01\", \"2020-03-02\", \"2020-03-03\", \"2020-03-04\", \"2020-03-05\", \"2020-03-06\", \"2020-03-07\", \"2020-03-08\", \"2020-03-09\", \"2020-03-10\", \"2020-03-11\", \"2020-03-12\", \"2020-03-13\", \"2020-03-14\", \"2020-03-15\", \"2020-03-16\", \"2020-03-17\", \"2020-03-18\", \"2020-03-19\", \"2020-03-20\", \"2020-03-21\", \"2020-03-22\", \"2020-03-23\", \"2020-03-25\", \"2020-03-26\", \"2020-03-27\", \"2020-03-28\", \"2020-03-29\", \"2020-03-30\", \"2020-03-31\", \"2020-04-01\", \"2020-04-02\", \"2020-04-03\", \"2020-04-04\", \"2020-04-05\", \"2020-04-06\", \"2020-04-07\", \"2020-04-08\", \"2020-04-09\", \"2020-04-10\", \"2020-04-11\", \"2020-04-12\", \"2020-04-13\", \"2020-04-14\", \"2020-04-15\", \"2020-04-16\", \"2020-04-17\", \"2020-04-18\", \"2020-04-19\", \"2020-04-20\", \"2020-04-21\", \"2020-04-22\"], \"y\": [0.0, 0.0, 0.0, 0.0, 0.0, 0.0, 0.0, 0.0, 0.0, 0.0, 0.0, 0.0, 0.0, 0.0, 0.0, 0.0, 0.0, 0.0, 0.0, 0.0, 0.0, 0.0, 0.0, 0.0, 0.0, 0.0, 0.0, 0.0, 0.0, 0.0, 0.0, 0.0, 0.0, 0.0, 0.0, 0.0, 0.0, 0.0, 0.0, 0.0, 0.0, 0.0, 0.0, 0.0, 0.0, 0.0, 0.0, 0.0, 0.0, 0.0, 0.0, 0.0, 0.0, 0.0, 0.0, 0.0, 0.0, 0.0, 0.0, 0.0, 0.0, 0.0, 0.0, 0.0, 869.0, 1072.0, 2665.0, 5644.0, 7024.0, 8474.0, 9001.0, 9707.0, 14652.0, 17448.0, 19581.0, 21763.0, 23559.0, 25410.0, 28790.0, 31270.0, 32988.0, 43482.0, 47763.0, 52096.0, 54703.0, 58545.0, 64840.0, 70337.0, 72329.0, 75204.0, 77366.0]}],\n",
              "                        {\"template\": {\"data\": {\"bar\": [{\"error_x\": {\"color\": \"#2a3f5f\"}, \"error_y\": {\"color\": \"#2a3f5f\"}, \"marker\": {\"line\": {\"color\": \"#E5ECF6\", \"width\": 0.5}}, \"type\": \"bar\"}], \"barpolar\": [{\"marker\": {\"line\": {\"color\": \"#E5ECF6\", \"width\": 0.5}}, \"type\": \"barpolar\"}], \"carpet\": [{\"aaxis\": {\"endlinecolor\": \"#2a3f5f\", \"gridcolor\": \"white\", \"linecolor\": \"white\", \"minorgridcolor\": \"white\", \"startlinecolor\": \"#2a3f5f\"}, \"baxis\": {\"endlinecolor\": \"#2a3f5f\", \"gridcolor\": \"white\", \"linecolor\": \"white\", \"minorgridcolor\": \"white\", \"startlinecolor\": \"#2a3f5f\"}, \"type\": \"carpet\"}], \"choropleth\": [{\"colorbar\": {\"outlinewidth\": 0, \"ticks\": \"\"}, \"type\": \"choropleth\"}], \"contour\": [{\"colorbar\": {\"outlinewidth\": 0, \"ticks\": \"\"}, \"colorscale\": [[0.0, \"#0d0887\"], [0.1111111111111111, \"#46039f\"], [0.2222222222222222, \"#7201a8\"], [0.3333333333333333, \"#9c179e\"], [0.4444444444444444, \"#bd3786\"], [0.5555555555555556, \"#d8576b\"], [0.6666666666666666, \"#ed7953\"], [0.7777777777777778, \"#fb9f3a\"], [0.8888888888888888, \"#fdca26\"], [1.0, \"#f0f921\"]], \"type\": \"contour\"}], \"contourcarpet\": [{\"colorbar\": {\"outlinewidth\": 0, \"ticks\": \"\"}, \"type\": \"contourcarpet\"}], \"heatmap\": [{\"colorbar\": {\"outlinewidth\": 0, \"ticks\": \"\"}, \"colorscale\": [[0.0, \"#0d0887\"], [0.1111111111111111, \"#46039f\"], [0.2222222222222222, \"#7201a8\"], [0.3333333333333333, \"#9c179e\"], [0.4444444444444444, \"#bd3786\"], [0.5555555555555556, \"#d8576b\"], [0.6666666666666666, \"#ed7953\"], [0.7777777777777778, \"#fb9f3a\"], [0.8888888888888888, \"#fdca26\"], [1.0, \"#f0f921\"]], \"type\": \"heatmap\"}], \"heatmapgl\": [{\"colorbar\": {\"outlinewidth\": 0, \"ticks\": \"\"}, \"colorscale\": [[0.0, \"#0d0887\"], [0.1111111111111111, \"#46039f\"], [0.2222222222222222, \"#7201a8\"], [0.3333333333333333, \"#9c179e\"], [0.4444444444444444, \"#bd3786\"], [0.5555555555555556, \"#d8576b\"], [0.6666666666666666, \"#ed7953\"], [0.7777777777777778, \"#fb9f3a\"], [0.8888888888888888, \"#fdca26\"], [1.0, \"#f0f921\"]], \"type\": \"heatmapgl\"}], \"histogram\": [{\"marker\": {\"colorbar\": {\"outlinewidth\": 0, \"ticks\": \"\"}}, \"type\": \"histogram\"}], \"histogram2d\": [{\"colorbar\": {\"outlinewidth\": 0, \"ticks\": \"\"}, \"colorscale\": [[0.0, \"#0d0887\"], [0.1111111111111111, \"#46039f\"], [0.2222222222222222, \"#7201a8\"], [0.3333333333333333, \"#9c179e\"], [0.4444444444444444, \"#bd3786\"], [0.5555555555555556, \"#d8576b\"], [0.6666666666666666, \"#ed7953\"], [0.7777777777777778, \"#fb9f3a\"], [0.8888888888888888, \"#fdca26\"], [1.0, \"#f0f921\"]], \"type\": \"histogram2d\"}], \"histogram2dcontour\": [{\"colorbar\": {\"outlinewidth\": 0, \"ticks\": \"\"}, \"colorscale\": [[0.0, \"#0d0887\"], [0.1111111111111111, \"#46039f\"], [0.2222222222222222, \"#7201a8\"], [0.3333333333333333, \"#9c179e\"], [0.4444444444444444, \"#bd3786\"], [0.5555555555555556, \"#d8576b\"], [0.6666666666666666, \"#ed7953\"], [0.7777777777777778, \"#fb9f3a\"], [0.8888888888888888, \"#fdca26\"], [1.0, \"#f0f921\"]], \"type\": \"histogram2dcontour\"}], \"mesh3d\": [{\"colorbar\": {\"outlinewidth\": 0, \"ticks\": \"\"}, \"type\": \"mesh3d\"}], \"parcoords\": [{\"line\": {\"colorbar\": {\"outlinewidth\": 0, \"ticks\": \"\"}}, \"type\": \"parcoords\"}], \"pie\": [{\"automargin\": true, \"type\": \"pie\"}], \"scatter\": [{\"marker\": {\"colorbar\": {\"outlinewidth\": 0, \"ticks\": \"\"}}, \"type\": \"scatter\"}], \"scatter3d\": [{\"line\": {\"colorbar\": {\"outlinewidth\": 0, \"ticks\": \"\"}}, \"marker\": {\"colorbar\": {\"outlinewidth\": 0, \"ticks\": \"\"}}, \"type\": \"scatter3d\"}], \"scattercarpet\": [{\"marker\": {\"colorbar\": {\"outlinewidth\": 0, \"ticks\": \"\"}}, \"type\": \"scattercarpet\"}], \"scattergeo\": [{\"marker\": {\"colorbar\": {\"outlinewidth\": 0, \"ticks\": \"\"}}, \"type\": \"scattergeo\"}], \"scattergl\": [{\"marker\": {\"colorbar\": {\"outlinewidth\": 0, \"ticks\": \"\"}}, \"type\": \"scattergl\"}], \"scattermapbox\": [{\"marker\": {\"colorbar\": {\"outlinewidth\": 0, \"ticks\": \"\"}}, \"type\": \"scattermapbox\"}], \"scatterpolar\": [{\"marker\": {\"colorbar\": {\"outlinewidth\": 0, \"ticks\": \"\"}}, \"type\": \"scatterpolar\"}], \"scatterpolargl\": [{\"marker\": {\"colorbar\": {\"outlinewidth\": 0, \"ticks\": \"\"}}, \"type\": \"scatterpolargl\"}], \"scatterternary\": [{\"marker\": {\"colorbar\": {\"outlinewidth\": 0, \"ticks\": \"\"}}, \"type\": \"scatterternary\"}], \"surface\": [{\"colorbar\": {\"outlinewidth\": 0, \"ticks\": \"\"}, \"colorscale\": [[0.0, \"#0d0887\"], [0.1111111111111111, \"#46039f\"], [0.2222222222222222, \"#7201a8\"], [0.3333333333333333, \"#9c179e\"], [0.4444444444444444, \"#bd3786\"], [0.5555555555555556, \"#d8576b\"], [0.6666666666666666, \"#ed7953\"], [0.7777777777777778, \"#fb9f3a\"], [0.8888888888888888, \"#fdca26\"], [1.0, \"#f0f921\"]], \"type\": \"surface\"}], \"table\": [{\"cells\": {\"fill\": {\"color\": \"#EBF0F8\"}, \"line\": {\"color\": \"white\"}}, \"header\": {\"fill\": {\"color\": \"#C8D4E3\"}, \"line\": {\"color\": \"white\"}}, \"type\": \"table\"}]}, \"layout\": {\"annotationdefaults\": {\"arrowcolor\": \"#2a3f5f\", \"arrowhead\": 0, \"arrowwidth\": 1}, \"coloraxis\": {\"colorbar\": {\"outlinewidth\": 0, \"ticks\": \"\"}}, \"colorscale\": {\"diverging\": [[0, \"#8e0152\"], [0.1, \"#c51b7d\"], [0.2, \"#de77ae\"], [0.3, \"#f1b6da\"], [0.4, \"#fde0ef\"], [0.5, \"#f7f7f7\"], [0.6, \"#e6f5d0\"], [0.7, \"#b8e186\"], [0.8, \"#7fbc41\"], [0.9, \"#4d9221\"], [1, \"#276419\"]], \"sequential\": [[0.0, \"#0d0887\"], [0.1111111111111111, \"#46039f\"], [0.2222222222222222, \"#7201a8\"], [0.3333333333333333, \"#9c179e\"], [0.4444444444444444, \"#bd3786\"], [0.5555555555555556, \"#d8576b\"], [0.6666666666666666, \"#ed7953\"], [0.7777777777777778, \"#fb9f3a\"], [0.8888888888888888, \"#fdca26\"], [1.0, \"#f0f921\"]], \"sequentialminus\": [[0.0, \"#0d0887\"], [0.1111111111111111, \"#46039f\"], [0.2222222222222222, \"#7201a8\"], [0.3333333333333333, \"#9c179e\"], [0.4444444444444444, \"#bd3786\"], [0.5555555555555556, \"#d8576b\"], [0.6666666666666666, \"#ed7953\"], [0.7777777777777778, \"#fb9f3a\"], [0.8888888888888888, \"#fdca26\"], [1.0, \"#f0f921\"]]}, \"colorway\": [\"#636efa\", \"#EF553B\", \"#00cc96\", \"#ab63fa\", \"#FFA15A\", \"#19d3f3\", \"#FF6692\", \"#B6E880\", \"#FF97FF\", \"#FECB52\"], \"font\": {\"color\": \"#2a3f5f\"}, \"geo\": {\"bgcolor\": \"white\", \"lakecolor\": \"white\", \"landcolor\": \"#E5ECF6\", \"showlakes\": true, \"showland\": true, \"subunitcolor\": \"white\"}, \"hoverlabel\": {\"align\": \"left\"}, \"hovermode\": \"closest\", \"mapbox\": {\"style\": \"light\"}, \"paper_bgcolor\": \"white\", \"plot_bgcolor\": \"#E5ECF6\", \"polar\": {\"angularaxis\": {\"gridcolor\": \"white\", \"linecolor\": \"white\", \"ticks\": \"\"}, \"bgcolor\": \"#E5ECF6\", \"radialaxis\": {\"gridcolor\": \"white\", \"linecolor\": \"white\", \"ticks\": \"\"}}, \"scene\": {\"xaxis\": {\"backgroundcolor\": \"#E5ECF6\", \"gridcolor\": \"white\", \"gridwidth\": 2, \"linecolor\": \"white\", \"showbackground\": true, \"ticks\": \"\", \"zerolinecolor\": \"white\"}, \"yaxis\": {\"backgroundcolor\": \"#E5ECF6\", \"gridcolor\": \"white\", \"gridwidth\": 2, \"linecolor\": \"white\", \"showbackground\": true, \"ticks\": \"\", \"zerolinecolor\": \"white\"}, \"zaxis\": {\"backgroundcolor\": \"#E5ECF6\", \"gridcolor\": \"white\", \"gridwidth\": 2, \"linecolor\": \"white\", \"showbackground\": true, \"ticks\": \"\", \"zerolinecolor\": \"white\"}}, \"shapedefaults\": {\"line\": {\"color\": \"#2a3f5f\"}}, \"ternary\": {\"aaxis\": {\"gridcolor\": \"white\", \"linecolor\": \"white\", \"ticks\": \"\"}, \"baxis\": {\"gridcolor\": \"white\", \"linecolor\": \"white\", \"ticks\": \"\"}, \"bgcolor\": \"#E5ECF6\", \"caxis\": {\"gridcolor\": \"white\", \"linecolor\": \"white\", \"ticks\": \"\"}}, \"title\": {\"x\": 0.05}, \"xaxis\": {\"automargin\": true, \"gridcolor\": \"white\", \"linecolor\": \"white\", \"ticks\": \"\", \"title\": {\"standoff\": 15}, \"zerolinecolor\": \"white\", \"zerolinewidth\": 2}, \"yaxis\": {\"automargin\": true, \"gridcolor\": \"white\", \"linecolor\": \"white\", \"ticks\": \"\", \"title\": {\"standoff\": 15}, \"zerolinecolor\": \"white\", \"zerolinewidth\": 2}}}, \"title\": {\"text\": \"COVID-19 US Confirmed Cases\"}, \"xaxis\": {\"range\": [\"2020-01-22\", \"2020-04-22\"]}},\n",
              "                        {\"responsive\": true}\n",
              "                    ).then(function(){\n",
              "                            \n",
              "var gd = document.getElementById('313aa506-3b61-4fcd-b284-7b5b155af4db');\n",
              "var x = new MutationObserver(function (mutations, observer) {{\n",
              "        var display = window.getComputedStyle(gd).display;\n",
              "        if (!display || display === 'none') {{\n",
              "            console.log([gd, 'removed!']);\n",
              "            Plotly.purge(gd);\n",
              "            observer.disconnect();\n",
              "        }}\n",
              "}});\n",
              "\n",
              "// Listen for the removal of the full notebook cells\n",
              "var notebookContainer = gd.closest('#notebook-container');\n",
              "if (notebookContainer) {{\n",
              "    x.observe(notebookContainer, {childList: true});\n",
              "}}\n",
              "\n",
              "// Listen for the clearing of the current output cell\n",
              "var outputEl = gd.closest('.output');\n",
              "if (outputEl) {{\n",
              "    x.observe(outputEl, {childList: true});\n",
              "}}\n",
              "\n",
              "                        })\n",
              "                };\n",
              "                \n",
              "            </script>\n",
              "        </div>\n",
              "</body>\n",
              "</html>"
            ]
          },
          "metadata": {
            "tags": []
          }
        }
      ]
    },
    {
      "cell_type": "markdown",
      "metadata": {
        "id": "-6TdiaZGDOkl",
        "colab_type": "text"
      },
      "source": [
        "Notice that much the early data points have very few observations. This is an important consideration in our modeling approach and indicates the potential benefit from subsetting to a later start date in our modeling process when applied to the US data only. Also, remember we created those percent changes by number of days features in the last notebook which will also be zero or nan for the earlier time period in the data. We will come back to this point later on in the notebook. For now let's subset the data to March 15, 2020 based on the plot."
      ]
    },
    {
      "cell_type": "markdown",
      "metadata": {
        "id": "eGAUt6afDOkl",
        "colab_type": "text"
      },
      "source": [
        "Subset the data to March 15 and later."
      ]
    },
    {
      "cell_type": "code",
      "metadata": {
        "id": "U3f_PY0TDOkm",
        "colab_type": "code",
        "outputId": "8466d8dd-5974-4291-df19-1d4b45fc016f",
        "colab": {
          "base_uri": "https://localhost:8080/",
          "height": 34
        }
      },
      "source": [
        "#set the date col datatype to date\n",
        "df['date'] = pd.to_datetime(df['date'],format = \"%Y-%m-%d\")\n",
        "#use pd.timestamp to filter based on specified date\n",
        "df = df[(df['date']>pd.Timestamp(2020,3,15))]\n",
        "#review the new shape of the data. frame\n",
        "df.shape"
      ],
      "execution_count": 0,
      "outputs": [
        {
          "output_type": "execute_result",
          "data": {
            "text/plain": [
              "(37, 100)"
            ]
          },
          "metadata": {
            "tags": []
          },
          "execution_count": 23
        }
      ]
    },
    {
      "cell_type": "markdown",
      "metadata": {
        "colab_type": "text",
        "id": "zkBHf9smZyGB"
      },
      "source": [
        "## Create dummy features for categorical variables - when applicable."
      ]
    },
    {
      "cell_type": "markdown",
      "metadata": {
        "colab_type": "text",
        "id": "hC2fyC4hi6MD"
      },
      "source": [
        "**<font color='DarkBlue'> Check the values for `province_state` and determine if dummies need to be created, if so, add the dummies back to the dataframe and remove the original column for `province_state`. </font>**"
      ]
    },
    {
      "cell_type": "code",
      "metadata": {
        "colab_type": "code",
        "id": "1wkyECMOcAcQ",
        "outputId": "fcf37573-2f1b-43bf-c2c0-6edbdd5ca203",
        "colab": {
          "base_uri": "https://localhost:8080/",
          "height": 51
        }
      },
      "source": [
        "df.province_state.value_counts()"
      ],
      "execution_count": 0,
      "outputs": [
        {
          "output_type": "execute_result",
          "data": {
            "text/plain": [
              "missing    91\n",
              "Name: province_state, dtype: int64"
            ]
          },
          "metadata": {
            "tags": []
          },
          "execution_count": 5
        }
      ]
    },
    {
      "cell_type": "markdown",
      "metadata": {
        "colab_type": "text",
        "id": "wr_eYIn7ctWN"
      },
      "source": [
        "**<font color='DarkBlue'> Currently there are no states in this dataset so we skip this step. </font>** But the code is provided here for your reference."
      ]
    },
    {
      "cell_type": "code",
      "metadata": {
        "colab_type": "code",
        "id": "lZqWk8ltZyGZ",
        "colab": {}
      },
      "source": [
        "#df = pd.concat([df, pd.get_dummies(df['province_state'])], axis=1).drop(['province_state'], axis =1)\n",
        "#print(df.shape)\n",
        "#df.head()"
      ],
      "execution_count": 0,
      "outputs": []
    },
    {
      "cell_type": "markdown",
      "metadata": {
        "colab_type": "text",
        "id": "HnDVhE1-ZyGF"
      },
      "source": [
        "## Standardize the magnitude of numeric features"
      ]
    },
    {
      "cell_type": "markdown",
      "metadata": {
        "colab_type": "text",
        "id": "BADoC4UAc--X"
      },
      "source": [
        "In the last step you may remember we applied a scaler to our data before fitting the Lasso Regression, however, we didn't save that in the output data so we will need to apply that step again before modeling the US data. Additionally, we need use the simple imputer to fill the nan or null values once again. Start by filling the null values than apply the scaler to the filled numpy array. "
      ]
    },
    {
      "cell_type": "markdown",
      "metadata": {
        "id": "My7GiMr4DOky",
        "colab_type": "text"
      },
      "source": [
        "**<font color='DarkBlue'> Let's start by selecting the confirmed cases as our response variable, define that in the next cell and create a y array from the response values. </font>**"
      ]
    },
    {
      "cell_type": "code",
      "metadata": {
        "id": "xO1rsrf1DOkz",
        "colab_type": "code",
        "colab": {}
      },
      "source": [
        "response ='confirmed'\n",
        "y = df[[response]].values"
      ],
      "execution_count": 0,
      "outputs": []
    },
    {
      "cell_type": "markdown",
      "metadata": {
        "id": "Qr4qvXeaDOk2",
        "colab_type": "text"
      },
      "source": [
        "**<font color='DarkBlue'> Next, apply the simple imputer and the mean strategy to fill the missing or null values in our data frame. </font>** Exclude the response variable from this function."
      ]
    },
    {
      "cell_type": "code",
      "metadata": {
        "id": "9c79fyn0DOk4",
        "colab_type": "code",
        "colab": {}
      },
      "source": [
        "imp = SimpleImputer(missing_values=np.nan, strategy='mean')\n",
        "X = df.drop([response], axis=1)._get_numeric_data()\n",
        "imputer=imp.fit(X)\n",
        "X_filled=imputer.transform(X)"
      ],
      "execution_count": 0,
      "outputs": []
    },
    {
      "cell_type": "markdown",
      "metadata": {
        "id": "wNNefLZhDOk7",
        "colab_type": "text"
      },
      "source": [
        "**<font color='DarkBlue'> Apply the standard scaler from sklearn preprocessing. </font>**"
      ]
    },
    {
      "cell_type": "code",
      "metadata": {
        "colab_type": "code",
        "id": "IZL-q-KtAYI6",
        "colab": {}
      },
      "source": [
        "scaler = preprocessing.StandardScaler().fit(X_filled)\n",
        "X_scaled=scaler.transform(X_filled)"
      ],
      "execution_count": 0,
      "outputs": []
    },
    {
      "cell_type": "markdown",
      "metadata": {
        "id": "aLQaz7MpDOk_",
        "colab_type": "text"
      },
      "source": [
        "Now we are ready to split the data into trianing and testing subsets. In this project our data spans a timeframe and therefore can be considered a timeseries. The benefit from building a model to predict the number of confirmed COVID19 cases is in the ability to forecast the future number. We care less about the ability to properly estimate the current amount of COVID cases and are mor concerned with ability to forecast the potential future number of cases.  \n",
        "\n",
        "Therefore, when it comes to splitting the data we want to train our model on data from the first part of the time series and test it on the most recent portion to confirm the model is capable of forecasting."
      ]
    },
    {
      "cell_type": "markdown",
      "metadata": {
        "colab_type": "text",
        "id": "GAT8h4_mZyGK"
      },
      "source": [
        "## Split into training and testing datasets"
      ]
    },
    {
      "cell_type": "markdown",
      "metadata": {
        "colab_type": "text",
        "id": "1zDMyE5ui6Mx"
      },
      "source": [
        "**<font color='DarkBlue'> Split the data into training and testing data subset based on date.</font>** Use the function provided to split the data by 80/20 for traing and testing, while keeping the dates in mind."
      ]
    },
    {
      "cell_type": "code",
      "metadata": {
        "colab_type": "code",
        "id": "BSkPut0gguds",
        "colab": {}
      },
      "source": [
        "from datetime import datetime,timedelta\n",
        "def dt_splitter(date_col, X, y, test_size):\n",
        "        date_col = pd.to_datetime(date_col)\n",
        "        xw_date=pd.DataFrame(X).merge(date_col,left_index=True, right_index=True)\n",
        "        ad = (max(xw_date.date)- min(xw_date.date)).days*test_size\n",
        "        split_date = min(xw_date.date) + timedelta(days=ad)\n",
        "        X_train = xw_date.loc[xw_date['date'] <= split_date].drop(['date'], axis=1).values\n",
        "        X_test = xw_date.loc[xw_date['date'] > split_date].drop(['date'], axis=1).values\n",
        "        yw_date=pd.DataFrame(y).merge(date_col,left_index=True, right_index=True)\n",
        "        y_train=yw_date.loc[yw_date['date'] <= split_date].drop(['date'], axis=1).values\n",
        "        y_test=yw_date.loc[yw_date['date'] > split_date].drop(['date'], axis=1).values\n",
        "        return X_train, X_test, y_train, y_test\n",
        "\n",
        "X_train, X_test, y_train, y_test=dt_splitter(df['date'], X_scaled, y, .80)"
      ],
      "execution_count": 0,
      "outputs": []
    },
    {
      "cell_type": "markdown",
      "metadata": {
        "id": "7QbQxYvlDOlE",
        "colab_type": "text"
      },
      "source": [
        "# Modeling\n",
        "## Fit a Lasso Regression model"
      ]
    },
    {
      "cell_type": "markdown",
      "metadata": {
        "id": "lKrAQD4ADOlE",
        "colab_type": "text"
      },
      "source": [
        "Lasso regression is a type of linear regression that uses a penalty to push non-informative features coefficients to zero. It automates the feature selection process in this way. [Learn more about Lasso Regression in a short course created by Breakthrough Data Science.](https://docs.google.com/document/d/e/2PACX-1vTgO2Fykp7R1xB5VSxgCQ0R_iOi_nNEBHqGsN0VOiiGCkXNkfGqXHDpZCT0kW3wsZSJbVr0fvtuCFIz/pub)  \n",
        "\n",
        "**<font color='DarkBlue'> Fit the Lasso Regression model as we did in the step three notebook. </font>**"
      ]
    },
    {
      "cell_type": "code",
      "metadata": {
        "colab_type": "code",
        "id": "Jz8Jnu6Zd4tW",
        "outputId": "bea46e2e-4889-44e5-f60f-168b82b1d00d",
        "colab": {
          "base_uri": "https://localhost:8080/",
          "height": 34
        }
      },
      "source": [
        "lassoreg = Lasso(alpha=0.001,normalize=True, max_iter=1e5)\n",
        "lassoreg.fit(X_train,y_train)\n",
        "y_pred = lassoreg.predict(X_test)\n",
        "print('Mean explained variance score for confirmed cases for the testing period = %.2f.' % explained_variance_score(y_test, y_pred))"
      ],
      "execution_count": 0,
      "outputs": [
        {
          "output_type": "stream",
          "text": [
            "Mean explained variance score for confirmed cases for the testing period = -3.18.\n"
          ],
          "name": "stdout"
        }
      ]
    },
    {
      "cell_type": "code",
      "metadata": {
        "id": "Ob40QbR8DOlJ",
        "colab_type": "code",
        "outputId": "0b97ab68-31de-41fd-f63d-c0b86104f8ac",
        "colab": {
          "base_uri": "https://localhost:8080/",
          "height": 34
        }
      },
      "source": [
        "print('Mean absolute error for confirmed cases for the testing period = %.0f cases.' % mean_absolute_error(y_test, y_pred))"
      ],
      "execution_count": 0,
      "outputs": [
        {
          "output_type": "stream",
          "text": [
            "Mean absolute error for confirmed cases for the testing period = 482111 cases.\n"
          ],
          "name": "stdout"
        }
      ]
    },
    {
      "cell_type": "code",
      "metadata": {
        "id": "NAy9UYhWDOlM",
        "colab_type": "code",
        "outputId": "b6269e1b-2093-4105-c5fb-c6345a4123d8",
        "colab": {
          "base_uri": "https://localhost:8080/",
          "height": 34
        }
      },
      "source": [
        "# Calculate mean absolute percentage error (MAPE)\n",
        "y_true, y_pred = np.array(y_test), np.array(y_pred)\n",
        "mape = np.mean(np.abs((y_true - y_pred) / y_true)) * 100\n",
        "\n",
        "# Calculate and display accuracy\n",
        "accuracy = 100 - np.mean(mape)\n",
        "print('Lasso Regression Model Accuracy:', round(accuracy, 2), '%.')"
      ],
      "execution_count": 0,
      "outputs": [
        {
          "output_type": "stream",
          "text": [
            "Lasso Regression Model Accuracy: -12.1 %.\n"
          ],
          "name": "stdout"
        }
      ]
    },
    {
      "cell_type": "markdown",
      "metadata": {
        "id": "mITQn4rYDOlP",
        "colab_type": "text"
      },
      "source": [
        "Plot the lasso forecast with the test samples."
      ]
    },
    {
      "cell_type": "code",
      "metadata": {
        "colab_type": "code",
        "id": "nvS9M5PTeDjG",
        "outputId": "042fd42d-b510-4ec4-db87-ff6217d41c46",
        "colab": {
          "base_uri": "https://localhost:8080/",
          "height": 312
        }
      },
      "source": [
        "plt.scatter(y_pred,y_test)\n",
        "plt.plot([x for x in range(0,150000)],[x for x in range(0,150000)], color='red')\n",
        "plt.title(\"Model y predicted by actuals\")\n",
        "plt.xlabel(\"Predicted\")\n",
        "plt.ylabel(\"Actual\")"
      ],
      "execution_count": 0,
      "outputs": [
        {
          "output_type": "execute_result",
          "data": {
            "text/plain": [
              "Text(0, 0.5, 'Actual')"
            ]
          },
          "metadata": {
            "tags": []
          },
          "execution_count": 14
        },
        {
          "output_type": "display_data",
          "data": {
            "image/png": "[encoded data removed]",
            "text/plain": [
              "<Figure size 432x288 with 1 Axes>"
            ]
          },
          "metadata": {
            "tags": [],
            "needs_background": "light"
          }
        }
      ]
    },
    {
      "cell_type": "markdown",
      "metadata": {
        "id": "MuKe7PqfDOlT",
        "colab_type": "text"
      },
      "source": [
        "Results aren't great let's try another modeling method, such as Random Forest Regression."
      ]
    },
    {
      "cell_type": "markdown",
      "metadata": {
        "id": "84l0JCziDOlT",
        "colab_type": "text"
      },
      "source": [
        "## Fit a Random Forest Regression model"
      ]
    },
    {
      "cell_type": "code",
      "metadata": {
        "id": "AaBacnYEDOlU",
        "colab_type": "code",
        "colab": {}
      },
      "source": [
        "from sklearn.ensemble import RandomForestRegressor\n",
        "\n",
        "rf = RandomForestRegressor(n_estimators = 500, random_state = 42)\n",
        "\n",
        "rf.fit(X_train,y_train.ravel());"
      ],
      "execution_count": 0,
      "outputs": []
    },
    {
      "cell_type": "code",
      "metadata": {
        "id": "y4AvScX8DOlW",
        "colab_type": "code",
        "outputId": "90070f4d-fde8-4cd3-c9ae-730442a9cb95",
        "colab": {
          "base_uri": "https://localhost:8080/",
          "height": 34
        }
      },
      "source": [
        "# Use the random forest's predict method on the test data\n",
        "predictions = rf.predict(X_test)\n",
        "print('Mean Absolute Error: %.0f cases.' % mean_absolute_error(y_test, predictions))"
      ],
      "execution_count": 0,
      "outputs": [
        {
          "output_type": "stream",
          "text": [
            "Mean Absolute Error: 408254 cases.\n"
          ],
          "name": "stdout"
        }
      ]
    },
    {
      "cell_type": "code",
      "metadata": {
        "id": "1u_KggR7DOlZ",
        "colab_type": "code",
        "outputId": "f6538094-84f8-4a4b-8d96-ceb486369416",
        "colab": {
          "base_uri": "https://localhost:8080/",
          "height": 34
        }
      },
      "source": [
        "# Calculate mean absolute percentage error (MAPE)\n",
        "y_true, y_pred = np.array(y_test), np.array(predictions)\n",
        "mape = np.mean(np.abs((y_true - y_pred) / y_true)) * 100\n",
        "\n",
        "# Calculate and display accuracy\n",
        "accuracy = 100 - np.mean(mape)\n",
        "print('RF Accuracy:', round(accuracy, 2), '%.')"
      ],
      "execution_count": 0,
      "outputs": [
        {
          "output_type": "stream",
          "text": [
            "RF Accuracy: 32.34 %.\n"
          ],
          "name": "stdout"
        }
      ]
    },
    {
      "cell_type": "markdown",
      "metadata": {
        "id": "qq9UR2IODOlc",
        "colab_type": "text"
      },
      "source": [
        "Now let's try an additional modeling method and see if we can improve our results. Given the topic at hand is a time series let's delve into ARIMA models and build one on our COVID19 data."
      ]
    },
    {
      "cell_type": "markdown",
      "metadata": {
        "id": "282gkwFjDOlc",
        "colab_type": "text"
      },
      "source": [
        "## What is a time series?\n",
        "Time series is an ordered sequence of values of a variable at equally spaced intervals. In this project we have a timeseries made by the count of confirmed cases per day for the US. The count of recovered or deaths by day are two seperate time series. In general when working with time series data we don't incorporate additional features such as the percent change features we created in step 3. Going forward we are only considering the date and the confirmed cases, so our data is much more simplified than when building the Lasso or Random Forest Regressions. "
      ]
    },
    {
      "cell_type": "markdown",
      "metadata": {
        "id": "WwVSeQXuDOlc",
        "colab_type": "text"
      },
      "source": [
        "## Components of an ARIMA\n",
        "ARIMA is an acronym that stands for AutoRegressive Integrated Moving Average. It is the combination of these modeling methods that make up the final ARIMA components.\n",
        "\n",
        "### AutoRegressive (AR) --> p\n",
        "A type of regression where you are trying to predict future values based on previous values of that variable. This model uses the trend of how a phenomenon changes over time at previous time stamps also referred to as lags.\n",
        "\n",
        "We can use the PACF chart to identify the trend aka the lags that are statistically different than zero.  \n",
        "### Integrated ( I ) --> d\n",
        "The use of differencing of raw observations (e.g. subtracting an observation from an observation at the previous time step) in order to make the time series stationary.  Stationarity refers to a constant mean and standard deviation.\n",
        "\n",
        "### Moving Average (MA) --> q\n",
        "A model that uses the dependency between an observation and a residual error from a moving average model applied to lagged observations.\n",
        "\n",
        "These three componenets are explicitly included in the ARIMA model as parameters. \n",
        "\n",
        "## ARIMA (p,d q)"
      ]
    },
    {
      "cell_type": "markdown",
      "metadata": {
        "colab_type": "text",
        "id": "yGPk6KXVZjjX"
      },
      "source": [
        "## Model Confirmed cases with ARIMA"
      ]
    },
    {
      "cell_type": "markdown",
      "metadata": {
        "id": "Xm99nA1sDOld",
        "colab_type": "text"
      },
      "source": [
        "Select only the confirmed cases for modeling."
      ]
    },
    {
      "cell_type": "code",
      "metadata": {
        "colab_type": "code",
        "id": "eZ6gjEE9i6Nw",
        "outputId": "7f2e631b-45f3-4aec-d763-fa5d56b4d2f3",
        "colab": {
          "base_uri": "https://localhost:8080/",
          "height": 153
        }
      },
      "source": [
        "#create timeseries data, so only date and confirmed cases data frame.\n",
        "cdf = df[['date', 'confirmed']]\n",
        "cdf['date'] = pd.to_datetime(cdf['date'])\n",
        "cdf.set_index('date', inplace = True)"
      ],
      "execution_count": 0,
      "outputs": [
        {
          "output_type": "stream",
          "text": [
            "/usr/local/lib/python3.6/dist-packages/ipykernel_launcher.py:3: SettingWithCopyWarning:\n",
            "\n",
            "\n",
            "A value is trying to be set on a copy of a slice from a DataFrame.\n",
            "Try using .loc[row_indexer,col_indexer] = value instead\n",
            "\n",
            "See the caveats in the documentation: https://pandas.pydata.org/pandas-docs/stable/user_guide/indexing.html#returning-a-view-versus-a-copy\n",
            "\n"
          ],
          "name": "stderr"
        }
      ]
    },
    {
      "cell_type": "markdown",
      "metadata": {
        "id": "rgxcglMPDOli",
        "colab_type": "text"
      },
      "source": [
        "Plot the confirmed cases over time and notice there is no seasonality visible."
      ]
    },
    {
      "cell_type": "code",
      "metadata": {
        "colab_type": "code",
        "id": "7chBiCqsBDsD",
        "outputId": "9b2285ee-bdfc-422f-cfa1-e497a62eb18d",
        "colab": {
          "base_uri": "https://localhost:8080/",
          "height": 302
        }
      },
      "source": [
        "y = cdf['confirmed']\n",
        "y.plot()"
      ],
      "execution_count": 0,
      "outputs": [
        {
          "output_type": "execute_result",
          "data": {
            "text/plain": [
              "<matplotlib.axes._subplots.AxesSubplot at 0x7fa24e2acda0>"
            ]
          },
          "metadata": {
            "tags": []
          },
          "execution_count": 19
        },
        {
          "output_type": "display_data",
          "data": {
            "image/png": "[encoded data removed]",
            "text/plain": [
              "<Figure size 432x288 with 1 Axes>"
            ]
          },
          "metadata": {
            "tags": [],
            "needs_background": "light"
          }
        }
      ]
    },
    {
      "cell_type": "markdown",
      "metadata": {
        "id": "Z9xJOAdbDOll",
        "colab_type": "text"
      },
      "source": [
        "## Identify a starting value for p\n",
        "We can use the partial autocorrelation plot to determine the proper number of lags to include."
      ]
    },
    {
      "cell_type": "code",
      "metadata": {
        "colab_type": "code",
        "id": "gfXyM4oLG-n9",
        "outputId": "72c2810e-44b5-48ab-aec6-8c96d795e74e",
        "colab": {
          "base_uri": "https://localhost:8080/",
          "height": 513
        }
      },
      "source": [
        "from statsmodels.tsa.stattools import acf, pacf\n",
        "#calling partial correlation function\n",
        "lag_pacf = pacf(y, nlags=30, method='ols')\n",
        "#Plot PACF:\n",
        "plt.figure(figsize=(16, 7))\n",
        "plt.plot(lag_pacf,marker='+')\n",
        "plt.axhline(y=0,linestyle='--',color='gray')\n",
        "plt.axhline(y=-1.96/np.sqrt(len(y)),linestyle='--',color='gray')\n",
        "plt.axhline(y=1.96/np.sqrt(len(y)),linestyle='--',color='gray')\n",
        "plt.title('Partial Autocorrelation Function')\n",
        "plt.xlabel('Number of lags')\n",
        "plt.ylabel('correlation')\n",
        "plt.tight_layout()"
      ],
      "execution_count": 0,
      "outputs": [
        {
          "output_type": "display_data",
          "data": {
            "image/png": "[encoded data removed]",
            "text/plain": [
              "<Figure size 1152x504 with 1 Axes>"
            ]
          },
          "metadata": {
            "tags": [],
            "needs_background": "light"
          }
        }
      ]
    },
    {
      "cell_type": "markdown",
      "metadata": {
        "id": "PuXup50DDOlo",
        "colab_type": "text"
      },
      "source": [
        "Based on the above plot we will set p = 1. Now let's look at the autocorrelation plot."
      ]
    },
    {
      "cell_type": "code",
      "metadata": {
        "colab_type": "code",
        "id": "Wj0fzy7DTjZm",
        "outputId": "778152f3-6048-4c5e-f84f-622dedf2a770",
        "colab": {
          "base_uri": "https://localhost:8080/",
          "height": 513
        }
      },
      "source": [
        "from statsmodels.tsa.stattools import acf, pacf\n",
        "import warnings\n",
        "warnings.filterwarnings(\"ignore\")\n",
        "#calling auto correlation function\n",
        "lag_acf = acf(y, nlags=300)\n",
        "#Plot ACF:\n",
        "plt.figure(figsize=(16, 7))\n",
        "plt.plot(lag_acf,marker='+')\n",
        "plt.axhline(y=0,linestyle='--',color='gray')\n",
        "plt.axhline(y=-1.96/np.sqrt(len(y)),linestyle='--',color='gray')\n",
        "plt.axhline(y=1.96/np.sqrt(len(y)),linestyle='--',color='gray')\n",
        "plt.title('Autocorrelation Function')\n",
        "plt.xlabel('number of lags')\n",
        "plt.ylabel('correlation')\n",
        "plt.tight_layout()"
      ],
      "execution_count": 0,
      "outputs": [
        {
          "output_type": "display_data",
          "data": {
            "image/png": "[encoded data removed]",
            "text/plain": [
              "<Figure size 1152x504 with 1 Axes>"
            ]
          },
          "metadata": {
            "tags": [],
            "needs_background": "light"
          }
        }
      ]
    },
    {
      "cell_type": "markdown",
      "metadata": {
        "id": "L3VAjmwIDOlr",
        "colab_type": "text"
      },
      "source": [
        "## Define the arima based on the diagnostic plots"
      ]
    },
    {
      "cell_type": "code",
      "metadata": {
        "colab_type": "code",
        "id": "v0K2kJWrCx7Z",
        "colab": {}
      },
      "source": [
        "# Import mean_squared_error and ARIMA\n",
        "from sklearn.metrics import mean_squared_error\n",
        "from statsmodels.tsa.arima_model import ARIMA"
      ],
      "execution_count": 0,
      "outputs": []
    },
    {
      "cell_type": "code",
      "metadata": {
        "colab_type": "code",
        "id": "n66asbHiEGvP",
        "colab": {}
      },
      "source": [
        "#define the parameters and fit the model.\n",
        "p=1\n",
        "d=0\n",
        "q=0\n",
        "model = ARIMA(y, order=(p,d,q))\n",
        "model_fit = model.fit()"
      ],
      "execution_count": 0,
      "outputs": []
    },
    {
      "cell_type": "code",
      "metadata": {
        "colab_type": "code",
        "id": "Ok9Z5tUcEbm0",
        "outputId": "ae9869bd-93a7-408c-d695-32855dd00669",
        "colab": {
          "base_uri": "https://localhost:8080/",
          "height": 334
        }
      },
      "source": [
        "model_fit.summary()"
      ],
      "execution_count": 0,
      "outputs": [
        {
          "output_type": "execute_result",
          "data": {
            "text/html": [
              "<table class=\"simpletable\">\n",
              "<caption>ARMA Model Results</caption>\n",
              "<tr>\n",
              "  <th>Dep. Variable:</th>     <td>confirmed</td>    <th>  No. Observations:  </th>    <td>37</td>    \n",
              "</tr>\n",
              "<tr>\n",
              "  <th>Model:</th>            <td>ARMA(1, 0)</td>    <th>  Log Likelihood     </th> <td>-431.332</td> \n",
              "</tr>\n",
              "<tr>\n",
              "  <th>Method:</th>             <td>css-mle</td>     <th>  S.D. of innovations</th> <td>25300.905</td>\n",
              "</tr>\n",
              "<tr>\n",
              "  <th>Date:</th>          <td>Tue, 12 May 2020</td> <th>  AIC                </th>  <td>868.664</td> \n",
              "</tr>\n",
              "<tr>\n",
              "  <th>Time:</th>              <td>22:22:49</td>     <th>  BIC                </th>  <td>873.496</td> \n",
              "</tr>\n",
              "<tr>\n",
              "  <th>Sample:</th>                <td>0</td>        <th>  HQIC               </th>  <td>870.367</td> \n",
              "</tr>\n",
              "<tr>\n",
              "  <th></th>                       <td> </td>        <th>                     </th>     <td> </td>    \n",
              "</tr>\n",
              "</table>\n",
              "<table class=\"simpletable\">\n",
              "<tr>\n",
              "         <td></td>            <th>coef</th>     <th>std err</th>      <th>z</th>      <th>P>|z|</th>  <th>[0.025</th>    <th>0.975]</th>  \n",
              "</tr>\n",
              "<tr>\n",
              "  <th>const</th>           <td> -5.17e+05</td> <td>      nan</td> <td>      nan</td> <td>   nan</td> <td>      nan</td> <td>      nan</td>\n",
              "</tr>\n",
              "<tr>\n",
              "  <th>ar.L1.confirmed</th> <td>    0.9997</td> <td>      nan</td> <td>      nan</td> <td>   nan</td> <td>      nan</td> <td>      nan</td>\n",
              "</tr>\n",
              "</table>\n",
              "<table class=\"simpletable\">\n",
              "<caption>Roots</caption>\n",
              "<tr>\n",
              "    <td></td>   <th>            Real</th>  <th>         Imaginary</th> <th>         Modulus</th>  <th>        Frequency</th>\n",
              "</tr>\n",
              "<tr>\n",
              "  <th>AR.1</th> <td>           1.0003</td> <td>          +0.0000j</td> <td>           1.0003</td> <td>           0.0000</td>\n",
              "</tr>\n",
              "</table>"
            ],
            "text/plain": [
              "<class 'statsmodels.iolib.summary.Summary'>\n",
              "\"\"\"\n",
              "                              ARMA Model Results                              \n",
              "==============================================================================\n",
              "Dep. Variable:              confirmed   No. Observations:                   37\n",
              "Model:                     ARMA(1, 0)   Log Likelihood                -431.332\n",
              "Method:                       css-mle   S.D. of innovations          25300.905\n",
              "Date:                Tue, 12 May 2020   AIC                            868.664\n",
              "Time:                        22:22:49   BIC                            873.496\n",
              "Sample:                             0   HQIC                           870.367\n",
              "                                                                              \n",
              "===================================================================================\n",
              "                      coef    std err          z      P>|z|      [0.025      0.975]\n",
              "-----------------------------------------------------------------------------------\n",
              "const            -5.17e+05        nan        nan        nan         nan         nan\n",
              "ar.L1.confirmed     0.9997        nan        nan        nan         nan         nan\n",
              "                                    Roots                                    \n",
              "=============================================================================\n",
              "                  Real          Imaginary           Modulus         Frequency\n",
              "-----------------------------------------------------------------------------\n",
              "AR.1            1.0003           +0.0000j            1.0003            0.0000\n",
              "-----------------------------------------------------------------------------\n",
              "\"\"\""
            ]
          },
          "metadata": {
            "tags": []
          },
          "execution_count": 54
        }
      ]
    },
    {
      "cell_type": "code",
      "metadata": {
        "id": "8TgF55y9DOl5",
        "colab_type": "code",
        "outputId": "7db0a178-068f-4626-8313-5d0f8da8b43a",
        "colab": {}
      },
      "source": [
        "forecast = model_fit.forecast()\n",
        "forecast"
      ],
      "execution_count": 0,
      "outputs": [
        {
          "output_type": "execute_result",
          "data": {
            "text/plain": [
              "(array([4473.52555041]),\n",
              " array([25300.90463237]),\n",
              " array([[-45115.33630531,  54062.38740613]]))"
            ]
          },
          "metadata": {
            "tags": []
          },
          "execution_count": 63
        }
      ]
    },
    {
      "cell_type": "code",
      "metadata": {
        "colab_type": "code",
        "id": "OjOF-lDHTZY7",
        "outputId": "b5b3d5df-e6d2-4bf8-e6d8-6e6cdada9519",
        "colab": {}
      },
      "source": [
        "# plot residual errors\n",
        "residuals = pd.DataFrame(model_fit.resid)\n",
        "residuals.plot()"
      ],
      "execution_count": 0,
      "outputs": [
        {
          "output_type": "execute_result",
          "data": {
            "text/plain": [
              "<matplotlib.axes._subplots.AxesSubplot at 0x7fc55ebf1208>"
            ]
          },
          "metadata": {
            "tags": []
          },
          "execution_count": 55
        },
        {
          "output_type": "display_data",
          "data": {
            "image/png": "[encoded data removed]",
            "text/plain": [
              "<Figure size 432x288 with 1 Axes>"
            ]
          },
          "metadata": {
            "tags": []
          }
        }
      ]
    },
    {
      "cell_type": "code",
      "metadata": {
        "id": "mrE-WVAbDOl-",
        "colab_type": "code",
        "outputId": "db0d6f3e-aaf2-4111-b9c7-b96ed7136280",
        "colab": {}
      },
      "source": [
        "residuals.plot(kind='kde')"
      ],
      "execution_count": 0,
      "outputs": [
        {
          "output_type": "execute_result",
          "data": {
            "text/plain": [
              "<matplotlib.axes._subplots.AxesSubplot at 0x7fc55eca1fd0>"
            ]
          },
          "metadata": {
            "tags": []
          },
          "execution_count": 56
        },
        {
          "output_type": "display_data",
          "data": {
            "image/png": "[encoded data removed]",
            "text/plain": [
              "<Figure size 432x288 with 1 Axes>"
            ]
          },
          "metadata": {
            "tags": []
          }
        }
      ]
    },
    {
      "cell_type": "markdown",
      "metadata": {
        "id": "20WG6yDcDOmA",
        "colab_type": "text"
      },
      "source": [
        "Build a second model with different parameters."
      ]
    },
    {
      "cell_type": "code",
      "metadata": {
        "id": "Wt_HbzBXDOmB",
        "colab_type": "code",
        "outputId": "3891de67-fa75-4477-fa5b-ed89e1acdb1e",
        "colab": {}
      },
      "source": [
        "p=0\n",
        "d=1\n",
        "q=0\n",
        "model = ARIMA(y, order=(p,d,q))\n",
        "model_fit = model.fit()\n",
        "model_fit.summary()"
      ],
      "execution_count": 0,
      "outputs": [
        {
          "output_type": "execute_result",
          "data": {
            "text/html": [
              "<table class=\"simpletable\">\n",
              "<caption>ARIMA Model Results</caption>\n",
              "<tr>\n",
              "  <th>Dep. Variable:</th>    <td>D.confirmed</td>   <th>  No. Observations:  </th>    <td>36</td>    \n",
              "</tr>\n",
              "<tr>\n",
              "  <th>Model:</th>          <td>ARIMA(0, 1, 0)</td>  <th>  Log Likelihood     </th> <td>-383.041</td> \n",
              "</tr>\n",
              "<tr>\n",
              "  <th>Method:</th>               <td>css</td>       <th>  S.D. of innovations</th> <td>10108.069</td>\n",
              "</tr>\n",
              "<tr>\n",
              "  <th>Date:</th>          <td>Tue, 12 May 2020</td> <th>  AIC                </th>  <td>770.082</td> \n",
              "</tr>\n",
              "<tr>\n",
              "  <th>Time:</th>              <td>22:19:52</td>     <th>  BIC                </th>  <td>773.249</td> \n",
              "</tr>\n",
              "<tr>\n",
              "  <th>Sample:</th>                <td>1</td>        <th>  HQIC               </th>  <td>771.187</td> \n",
              "</tr>\n",
              "<tr>\n",
              "  <th></th>                       <td> </td>        <th>                     </th>     <td> </td>    \n",
              "</tr>\n",
              "</table>\n",
              "<table class=\"simpletable\">\n",
              "<tr>\n",
              "    <td></td>       <th>coef</th>     <th>std err</th>      <th>z</th>      <th>P>|z|</th>  <th>[0.025</th>    <th>0.975]</th>  \n",
              "</tr>\n",
              "<tr>\n",
              "  <th>const</th> <td> -2.32e+04</td> <td> 1684.678</td> <td>  -13.769</td> <td> 0.000</td> <td>-2.65e+04</td> <td>-1.99e+04</td>\n",
              "</tr>\n",
              "</table>"
            ],
            "text/plain": [
              "<class 'statsmodels.iolib.summary.Summary'>\n",
              "\"\"\"\n",
              "                             ARIMA Model Results                              \n",
              "==============================================================================\n",
              "Dep. Variable:            D.confirmed   No. Observations:                   36\n",
              "Model:                 ARIMA(0, 1, 0)   Log Likelihood                -383.041\n",
              "Method:                           css   S.D. of innovations          10108.069\n",
              "Date:                Tue, 12 May 2020   AIC                            770.082\n",
              "Time:                        22:19:52   BIC                            773.249\n",
              "Sample:                             1   HQIC                           771.187\n",
              "                                                                              \n",
              "==============================================================================\n",
              "                 coef    std err          z      P>|z|      [0.025      0.975]\n",
              "------------------------------------------------------------------------------\n",
              "const       -2.32e+04   1684.678    -13.769      0.000   -2.65e+04   -1.99e+04\n",
              "==============================================================================\n",
              "\"\"\""
            ]
          },
          "metadata": {
            "tags": []
          },
          "execution_count": 52
        }
      ]
    },
    {
      "cell_type": "markdown",
      "metadata": {
        "id": "6TZZyQ91DOmE",
        "colab_type": "text"
      },
      "source": [
        "Build a third model with different parameters."
      ]
    },
    {
      "cell_type": "code",
      "metadata": {
        "id": "h4aZ2nJBDOmE",
        "colab_type": "code",
        "outputId": "ed9cb229-c091-454b-c382-9933256d219c",
        "colab": {}
      },
      "source": [
        "p=1\n",
        "d=2\n",
        "q=1\n",
        "model = ARIMA(y, order=(p,d,q))\n",
        "model_fit = model.fit()\n",
        "model_fit.summary()"
      ],
      "execution_count": 0,
      "outputs": [
        {
          "output_type": "execute_result",
          "data": {
            "text/html": [
              "<table class=\"simpletable\">\n",
              "<caption>ARIMA Model Results</caption>\n",
              "<tr>\n",
              "  <th>Dep. Variable:</th>   <td>D2.confirmed</td>   <th>  No. Observations:  </th>    <td>35</td>   \n",
              "</tr>\n",
              "<tr>\n",
              "  <th>Model:</th>          <td>ARIMA(1, 2, 1)</td>  <th>  Log Likelihood     </th> <td>-347.348</td>\n",
              "</tr>\n",
              "<tr>\n",
              "  <th>Method:</th>             <td>css-mle</td>     <th>  S.D. of innovations</th> <td>4902.830</td>\n",
              "</tr>\n",
              "<tr>\n",
              "  <th>Date:</th>          <td>Tue, 12 May 2020</td> <th>  AIC                </th>  <td>702.695</td>\n",
              "</tr>\n",
              "<tr>\n",
              "  <th>Time:</th>              <td>22:10:45</td>     <th>  BIC                </th>  <td>708.917</td>\n",
              "</tr>\n",
              "<tr>\n",
              "  <th>Sample:</th>                <td>2</td>        <th>  HQIC               </th>  <td>704.843</td>\n",
              "</tr>\n",
              "<tr>\n",
              "  <th></th>                       <td> </td>        <th>                     </th>     <td> </td>   \n",
              "</tr>\n",
              "</table>\n",
              "<table class=\"simpletable\">\n",
              "<tr>\n",
              "           <td></td>             <th>coef</th>     <th>std err</th>      <th>z</th>      <th>P>|z|</th>  <th>[0.025</th>    <th>0.975]</th>  \n",
              "</tr>\n",
              "<tr>\n",
              "  <th>const</th>              <td>  698.2132</td> <td>  461.039</td> <td>    1.514</td> <td> 0.140</td> <td> -205.406</td> <td> 1601.832</td>\n",
              "</tr>\n",
              "<tr>\n",
              "  <th>ar.L1.D2.confirmed</th> <td>   -0.5418</td> <td>    0.346</td> <td>   -1.567</td> <td> 0.127</td> <td>   -1.219</td> <td>    0.136</td>\n",
              "</tr>\n",
              "<tr>\n",
              "  <th>ma.L1.D2.confirmed</th> <td>   -0.1603</td> <td>    0.308</td> <td>   -0.521</td> <td> 0.606</td> <td>   -0.763</td> <td>    0.443</td>\n",
              "</tr>\n",
              "</table>\n",
              "<table class=\"simpletable\">\n",
              "<caption>Roots</caption>\n",
              "<tr>\n",
              "    <td></td>   <th>            Real</th>  <th>         Imaginary</th> <th>         Modulus</th>  <th>        Frequency</th>\n",
              "</tr>\n",
              "<tr>\n",
              "  <th>AR.1</th> <td>          -1.8459</td> <td>          +0.0000j</td> <td>           1.8459</td> <td>           0.5000</td>\n",
              "</tr>\n",
              "<tr>\n",
              "  <th>MA.1</th> <td>           6.2371</td> <td>          +0.0000j</td> <td>           6.2371</td> <td>           0.0000</td>\n",
              "</tr>\n",
              "</table>"
            ],
            "text/plain": [
              "<class 'statsmodels.iolib.summary.Summary'>\n",
              "\"\"\"\n",
              "                             ARIMA Model Results                              \n",
              "==============================================================================\n",
              "Dep. Variable:           D2.confirmed   No. Observations:                   35\n",
              "Model:                 ARIMA(1, 2, 1)   Log Likelihood                -347.348\n",
              "Method:                       css-mle   S.D. of innovations           4902.830\n",
              "Date:                Tue, 12 May 2020   AIC                            702.695\n",
              "Time:                        22:10:45   BIC                            708.917\n",
              "Sample:                             2   HQIC                           704.843\n",
              "                                                                              \n",
              "======================================================================================\n",
              "                         coef    std err          z      P>|z|      [0.025      0.975]\n",
              "--------------------------------------------------------------------------------------\n",
              "const                698.2132    461.039      1.514      0.140    -205.406    1601.832\n",
              "ar.L1.D2.confirmed    -0.5418      0.346     -1.567      0.127      -1.219       0.136\n",
              "ma.L1.D2.confirmed    -0.1603      0.308     -0.521      0.606      -0.763       0.443\n",
              "                                    Roots                                    \n",
              "=============================================================================\n",
              "                  Real          Imaginary           Modulus         Frequency\n",
              "-----------------------------------------------------------------------------\n",
              "AR.1           -1.8459           +0.0000j            1.8459            0.5000\n",
              "MA.1            6.2371           +0.0000j            6.2371            0.0000\n",
              "-----------------------------------------------------------------------------\n",
              "\"\"\""
            ]
          },
          "metadata": {
            "tags": []
          },
          "execution_count": 46
        }
      ]
    },
    {
      "cell_type": "markdown",
      "metadata": {
        "id": "8ldeDJmz_2nn",
        "colab_type": "text"
      },
      "source": [
        "Train Arima model on the training dataset.\n",
        "\n",
        "*   forecast for the time period in test data\n",
        "*   compare the two for accuracy\n",
        "* Then forecast for future days.\n"
      ]
    },
    {
      "cell_type": "code",
      "metadata": {
        "id": "rmxbOq_tDOmH",
        "colab_type": "code",
        "colab": {}
      },
      "source": [
        ""
      ],
      "execution_count": 0,
      "outputs": []
    }
  ]
}