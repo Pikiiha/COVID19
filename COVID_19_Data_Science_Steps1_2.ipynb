{
  "nbformat": 4,
  "nbformat_minor": 0,
  "metadata": {
    "colab": {
      "name": "COVID 19 Data Science",
      "provenance": [],
      "collapsed_sections": [],
      "toc_visible": true
    },
    "kernelspec": {
      "display_name": "Python 3",
      "language": "python",
      "name": "python3"
    },
    "language_info": {
      "codemirror_mode": {
        "name": "ipython",
        "version": 3
      },
      "file_extension": ".py",
      "mimetype": "text/x-python",
      "name": "python",
      "nbconvert_exporter": "python",
      "pygments_lexer": "ipython3",
      "version": "3.7.4"
    },
    "toc": {
      "base_numbering": "0",
      "nav_menu": {},
      "number_sections": true,
      "sideBar": true,
      "skip_h1_title": false,
      "title_cell": "Table of Contents",
      "title_sidebar": "Contents",
      "toc_cell": true,
      "toc_position": {
        "height": "calc(100% - 180px)",
        "left": "10px",
        "top": "150px",
        "width": "288px"
      },
      "toc_section_display": true,
      "toc_window_display": true
    }
  },
  "cells": [
    {
      "cell_type": "markdown",
      "metadata": {
        "colab_type": "text",
        "id": "cf5CmXQCZyF1"
      },
      "source": [
        "# COVID 19 Guided Capstone Steps 1 and 2\n",
        "\n",
        "In this notebook we will work through both the first and \n",
        "the second step in the [Data Science Method](http://bit.ly/363hKAM).\n",
        "\n",
        " With a clear problem identification completed we can progress on to the second step of Data Wrangling, this consists of multiple components including; Data Collection, Data Organization, Data Definitions, and Data Cleaning.  "
      ]
    },
    {
      "cell_type": "markdown",
      "metadata": {
        "colab_type": "text",
        "id": "Cc0lyndRYxYY"
      },
      "source": [
        "\n",
        "\n",
        "**The Data Science Method**  \n",
        "\n",
        "\n",
        "1.**Problem Identification**\n",
        " *  Problem statement formation \n",
        " *  Context \n",
        " * Criteria for success \n",
        " * Scope of solution space \n",
        " * Constraints \n",
        " * Stakeholders \n",
        " * Data sources\n",
        "\n",
        "\n",
        "2.   **Data Wrangling** \n",
        "  * Data Collection\n",
        "      - Locating the data\n",
        "      - Data loading\n",
        "      - Data joining\n",
        "   * Data Organization\n",
        "      -  File structure\n",
        "      -  Git & Github\n",
        "  * Data Definition\n",
        "      - Column names\n",
        "      - Data types (numeric, categorical, timestamp, etc.)\n",
        "      - Description of the columns\n",
        "      - Count or percent per unique values or codes (including NA)\n",
        "      - The range of values or codes  \n",
        "  * Data Cleaning\n",
        "      - NA or missing data\n",
        "      - Duplicates\n",
        " \n",
        "3.   Exploratory Data Analysis \n",
        "\n",
        "4.   Pre-processing and Training Data Development\n",
        "\n",
        "5.   Modeling \n",
        "\n",
        "6.   Documentation\n",
        "\n",
        "\n",
        "\n"
      ]
    },
    {
      "cell_type": "markdown",
      "metadata": {
        "id": "qR252EluC6om",
        "colab_type": "text"
      },
      "source": [
        "# Problem Identification"
      ]
    },
    {
      "cell_type": "markdown",
      "metadata": {
        "id": "vhu2dv7U2MTR",
        "colab_type": "text"
      },
      "source": [
        "An [outbreak of COVID-19 virus](https://en.wikipedia.org/wiki/2019%E2%80%9320_coronavirus_pandemic) started in December 2019 and at the time of the creation of this project was continuing to spread throughout the world. Many governments recommended only essential outings to public places and closed most business that do not serve food or sell essential items. An excellent [spatial dashboard](https://www.arcgis.com/apps/opsdashboard/index.html#/bda7594740fd40299423467b48e9ecf6) built by Johns Hopkins shows the daily confirmed cases by country. "
      ]
    },
    {
      "cell_type": "markdown",
      "metadata": {
        "id": "rL62qpl528_J",
        "colab_type": "text"
      },
      "source": [
        "## Problem Statement\n",
        "**<font color='DarkBlue'> What is the business problem you're investigating and what hypothesis can be made to support the business outcome?</font>**\n",
        "\n",
        "The problem we are looking to solve is to investigate and predict the spread of the coronavirus by region across the globe. "
      ]
    },
    {
      "cell_type": "markdown",
      "metadata": {
        "id": "2KhMcyHd5t3O",
        "colab_type": "text"
      },
      "source": [
        "## Context\n",
        "**<font color='DarkBlue'> Define any additional context for solving the problem?</font>**\n",
        "\n",
        "The problem is primarily focused on forcasting the spread of the COVID19."
      ]
    },
    {
      "cell_type": "markdown",
      "metadata": {
        "id": "5_wkWem56Kk0",
        "colab_type": "text"
      },
      "source": [
        "## Criteria for success\n",
        "In the absence of clearly defined success criteria and scope it can be difficult to identify when a project is complete.  \n",
        "**<font color='DarkBlue'> What do we expect to do with the model we create and how accurate must it be for us to use it in confidence? </font>**\n",
        "We expect to forecast the next day ahead number of confirmed coronavirus cases by region across the globe. We expect the model performance to vary by region with an overall accuracy above 70% for the model."
      ]
    },
    {
      "cell_type": "markdown",
      "metadata": {
        "id": "7OcfjAR16Jof",
        "colab_type": "text"
      },
      "source": [
        "## Scope of solution space\n",
        "**<font color='DarkBlue'> What are the details of the tasks to be completed to reach the solution? </font>**\n",
        "\n",
        "Following the Data Science Method, we will complete Data Wrangling, EDA, and Modeling in a way to support a deeper understanding of the data and stratify the data as we find appropriate."
      ]
    },
    {
      "cell_type": "markdown",
      "metadata": {
        "id": "J0d9S6ZdD0IW",
        "colab_type": "text"
      },
      "source": [
        "## Constraints \n",
        "If this analysis is meant to form recommendations we would describe the limitations of those recommendations here. "
      ]
    },
    {
      "cell_type": "markdown",
      "metadata": {
        "id": "EH05fejuEO7y",
        "colab_type": "text"
      },
      "source": [
        "## Stakeholders\n",
        "Given this project is on a topic affecting everyone, all people could be considered the stakeholders.  \n",
        "\n",
        "**<font color='DarkBlue'> Who will the results of this project be reported to?</font>**"
      ]
    },
    {
      "cell_type": "markdown",
      "metadata": {
        "id": "BdP3ORBmE6ST",
        "colab_type": "text"
      },
      "source": [
        "## Data Sources\n",
        "**<font color='DarkBlue'> What data will be used in this analysis?</font>**. \n",
        "\n",
        "We will be accessing a [dataset](https://www.openblender.io/#/dataset/explore/5e7a0d5d9516296cb86c6263) organized by Federico Riveroll on the Open Blender platform. He wrote a [Medium article](https://towardsdatascience.com/gather-all-the-coronavirus-data-with-python-19aa22167dea) using these data along with news and financial data for analysis. We have downloaded the data from OpenBlender and will access that data from a CSV file."
      ]
    },
    {
      "cell_type": "markdown",
      "metadata": {
        "id": "bgDawPUlF-uM",
        "colab_type": "text"
      },
      "source": [
        "# Data Wrangling"
      ]
    },
    {
      "cell_type": "markdown",
      "metadata": {
        "colab_type": "text",
        "id": "9YQUNzQ_PqR9"
      },
      "source": [
        "## Data Collection"
      ]
    },
    {
      "cell_type": "markdown",
      "metadata": {
        "colab_type": "text",
        "id": "7PrMkSjBQEMZ"
      },
      "source": [
        "First we load the needed packages and modules into python. Including the new Open Blender package. Then we will load the data into a pandas data frame for ease of use."
      ]
    },
    {
      "cell_type": "code",
      "metadata": {
        "colab_type": "code",
        "id": "ry6WPL5eZyF3",
        "colab": {
          "base_uri": "https://localhost:8080/",
          "height": 71
        },
        "outputId": "a47cbdcf-22de-4f70-fc7d-ea68c257b44e"
      },
      "source": [
        "#load python packages\n",
        "import os\n",
        "import pandas as pd\n",
        "import datetime\n",
        "import seaborn as sns\n",
        "import numpy as np\n",
        "from matplotlib import pyplot as plt\n",
        "import json\n",
        "%matplotlib inline"
      ],
      "execution_count": null,
      "outputs": [
        {
          "output_type": "stream",
          "text": [
            "/usr/local/lib/python3.6/dist-packages/statsmodels/tools/_testing.py:19: FutureWarning: pandas.util.testing is deprecated. Use the functions in the public API at pandas.testing instead.\n",
            "  import pandas.util.testing as tm\n"
          ],
          "name": "stderr"
        }
      ]
    },
    {
      "cell_type": "markdown",
      "metadata": {
        "id": "rCztLDSiNGSR",
        "colab_type": "text"
      },
      "source": [
        "Read in the saved csv file to 'df' to run the rest of the notebook."
      ]
    },
    {
      "cell_type": "code",
      "metadata": {
        "id": "xoQre3OEWjls",
        "colab_type": "code",
        "colab": {
          "base_uri": "https://localhost:8080/",
          "height": 204
        },
        "outputId": "b1aae6fc-be48-48f2-e614-c13746fdefaa"
      },
      "source": [
        "file='https://raw.githubusercontent.com/AVJdataminer/COVID19_GC/master/%20data/global_confirmed.csv'\n",
        "df=pd.read_csv(file)\n",
        "df.head()"
      ],
      "execution_count": null,
      "outputs": [
        {
          "output_type": "execute_result",
          "data": {
            "text/html": [
              "<div>\n",
              "<style scoped>\n",
              "    .dataframe tbody tr th:only-of-type {\n",
              "        vertical-align: middle;\n",
              "    }\n",
              "\n",
              "    .dataframe tbody tr th {\n",
              "        vertical-align: top;\n",
              "    }\n",
              "\n",
              "    .dataframe thead th {\n",
              "        text-align: right;\n",
              "    }\n",
              "</style>\n",
              "<table border=\"1\" class=\"dataframe\">\n",
              "  <thead>\n",
              "    <tr style=\"text-align: right;\">\n",
              "      <th></th>\n",
              "      <th>confirmed</th>\n",
              "      <th>deaths</th>\n",
              "      <th>timestamp</th>\n",
              "      <th>province_state</th>\n",
              "      <th>long</th>\n",
              "      <th>country_region</th>\n",
              "      <th>timestamp.date</th>\n",
              "      <th>lat</th>\n",
              "      <th>recovered</th>\n",
              "    </tr>\n",
              "  </thead>\n",
              "  <tbody>\n",
              "    <tr>\n",
              "      <th>0</th>\n",
              "      <td>28.0</td>\n",
              "      <td>4.0</td>\n",
              "      <td>1587556800</td>\n",
              "      <td>NaN</td>\n",
              "      <td>30.0000</td>\n",
              "      <td>Zimbabwe</td>\n",
              "      <td>2020-04-22</td>\n",
              "      <td>-20.0000</td>\n",
              "      <td>2.0</td>\n",
              "    </tr>\n",
              "    <tr>\n",
              "      <th>1</th>\n",
              "      <td>2910.0</td>\n",
              "      <td>402.0</td>\n",
              "      <td>1587556800</td>\n",
              "      <td>NaN</td>\n",
              "      <td>1.6596</td>\n",
              "      <td>Algeria</td>\n",
              "      <td>2020-04-22</td>\n",
              "      <td>28339.0000</td>\n",
              "      <td>1204.0</td>\n",
              "    </tr>\n",
              "    <tr>\n",
              "      <th>2</th>\n",
              "      <td>45757.0</td>\n",
              "      <td>2906.0</td>\n",
              "      <td>1587556800</td>\n",
              "      <td>NaN</td>\n",
              "      <td>-51.9253</td>\n",
              "      <td>Brazil</td>\n",
              "      <td>2020-04-22</td>\n",
              "      <td>-14.2350</td>\n",
              "      <td>25318.0</td>\n",
              "    </tr>\n",
              "    <tr>\n",
              "      <th>3</th>\n",
              "      <td>22.0</td>\n",
              "      <td>1.0</td>\n",
              "      <td>1587556800</td>\n",
              "      <td>NaN</td>\n",
              "      <td>24.6849</td>\n",
              "      <td>Botswana</td>\n",
              "      <td>2020-04-22</td>\n",
              "      <td>-22.3285</td>\n",
              "      <td>0.0</td>\n",
              "    </tr>\n",
              "    <tr>\n",
              "      <th>4</th>\n",
              "      <td>1368.0</td>\n",
              "      <td>53.0</td>\n",
              "      <td>1587556800</td>\n",
              "      <td>NaN</td>\n",
              "      <td>17.6791</td>\n",
              "      <td>Bosnia and Herzegovina</td>\n",
              "      <td>2020-04-22</td>\n",
              "      <td>43.9159</td>\n",
              "      <td>460.0</td>\n",
              "    </tr>\n",
              "  </tbody>\n",
              "</table>\n",
              "</div>"
            ],
            "text/plain": [
              "   confirmed  deaths   timestamp  ... timestamp.date         lat recovered\n",
              "0       28.0     4.0  1587556800  ...     2020-04-22    -20.0000       2.0\n",
              "1     2910.0   402.0  1587556800  ...     2020-04-22  28339.0000    1204.0\n",
              "2    45757.0  2906.0  1587556800  ...     2020-04-22    -14.2350   25318.0\n",
              "3       22.0     1.0  1587556800  ...     2020-04-22    -22.3285       0.0\n",
              "4     1368.0    53.0  1587556800  ...     2020-04-22     43.9159     460.0\n",
              "\n",
              "[5 rows x 9 columns]"
            ]
          },
          "metadata": {
            "tags": []
          },
          "execution_count": 2
        }
      ]
    },
    {
      "cell_type": "markdown",
      "metadata": {
        "colab_type": "text",
        "id": "aRMZPPkjYYJl"
      },
      "source": [
        "## Data Organization"
      ]
    },
    {
      "cell_type": "markdown",
      "metadata": {
        "colab_type": "text",
        "id": "QocLKpWsbmzK"
      },
      "source": [
        "Data organization in this project is going to be completed through a basic project folder structure we create. As you read in the Medium article introducing the data wrangling step often this is completed using Github or a module such as cookiecutter. Now that we have our data and our notebook pointed our working project directory let's start by printing the current file location to review the files in our working directory. "
      ]
    },
    {
      "cell_type": "markdown",
      "metadata": {
        "id": "zRLiAvEvXjxh",
        "colab_type": "text"
      },
      "source": [
        "**<font color='DarkBlue'> Finish the statement below by assigning the path variable.</font>**"
      ]
    },
    {
      "cell_type": "code",
      "metadata": {
        "colab_type": "code",
        "id": "z9Ke_XEFcPrV",
        "colab": {}
      },
      "source": [
        "path = os.getcwd()"
      ],
      "execution_count": null,
      "outputs": []
    },
    {
      "cell_type": "code",
      "metadata": {
        "id": "-7Xqv6owXjxk",
        "colab_type": "code",
        "colab": {}
      },
      "source": [
        "print (\"The current working directory is %s\" % path)"
      ],
      "execution_count": null,
      "outputs": []
    },
    {
      "cell_type": "markdown",
      "metadata": {
        "id": "01ag4G2s-4Z3",
        "colab_type": "text"
      },
      "source": [
        "**<font color='DarkBlue'>Print the files in your working directory.</font>**"
      ]
    },
    {
      "cell_type": "code",
      "metadata": {
        "colab_type": "code",
        "id": "is6wXPH3pEeJ",
        "colab": {}
      },
      "source": [
        "os.listdir()"
      ],
      "execution_count": null,
      "outputs": []
    },
    {
      "cell_type": "markdown",
      "metadata": {
        "colab_type": "text",
        "id": "B41tFEs0jLyr"
      },
      "source": [
        "## Data Definition\n",
        "Review Column Names, Data Types, and null values."
      ]
    },
    {
      "cell_type": "markdown",
      "metadata": {
        "colab_type": "text",
        "id": "wRi0i3vuqzuu"
      },
      "source": [
        "### Column Names \n",
        "<font color='DarkBlue'> **Print the columns names of the entire dataframe**</font>"
      ]
    },
    {
      "cell_type": "code",
      "metadata": {
        "colab_type": "code",
        "id": "TJ_Cpxujq2C-",
        "colab": {}
      },
      "source": [
        "df.columns"
      ],
      "execution_count": null,
      "outputs": []
    },
    {
      "cell_type": "markdown",
      "metadata": {
        "colab_type": "text",
        "id": "TaNtPKb1sjaR"
      },
      "source": [
        "### Data Types \n",
        "Review which columns are integer, float, categorical, or dates. Make sure the data type loaded properly in the dataframe. "
      ]
    },
    {
      "cell_type": "markdown",
      "metadata": {
        "id": "vck9Lvk-Xjx5",
        "colab_type": "text"
      },
      "source": [
        "<font color='DarkBlue'> **Using the `pandas.dtypes` function print the variable names and associated datatypes.**</font>"
      ]
    },
    {
      "cell_type": "code",
      "metadata": {
        "colab_type": "code",
        "id": "nYhpP7RlPG94",
        "colab": {
          "base_uri": "https://localhost:8080/",
          "height": 328
        },
        "outputId": "3cdef592-d37b-4f22-c2ce-80c2e0b0593b"
      },
      "source": [
        "vo = pd.DataFrame(df.dtypes).reset_index()\n",
        "vo.columns = ['VarName', 'DType']\n",
        "vo"
      ],
      "execution_count": null,
      "outputs": [
        {
          "output_type": "execute_result",
          "data": {
            "text/html": [
              "<div>\n",
              "<style scoped>\n",
              "    .dataframe tbody tr th:only-of-type {\n",
              "        vertical-align: middle;\n",
              "    }\n",
              "\n",
              "    .dataframe tbody tr th {\n",
              "        vertical-align: top;\n",
              "    }\n",
              "\n",
              "    .dataframe thead th {\n",
              "        text-align: right;\n",
              "    }\n",
              "</style>\n",
              "<table border=\"1\" class=\"dataframe\">\n",
              "  <thead>\n",
              "    <tr style=\"text-align: right;\">\n",
              "      <th></th>\n",
              "      <th>VarName</th>\n",
              "      <th>DType</th>\n",
              "    </tr>\n",
              "  </thead>\n",
              "  <tbody>\n",
              "    <tr>\n",
              "      <th>0</th>\n",
              "      <td>confirmed</td>\n",
              "      <td>float64</td>\n",
              "    </tr>\n",
              "    <tr>\n",
              "      <th>1</th>\n",
              "      <td>deaths</td>\n",
              "      <td>float64</td>\n",
              "    </tr>\n",
              "    <tr>\n",
              "      <th>2</th>\n",
              "      <td>timestamp</td>\n",
              "      <td>int64</td>\n",
              "    </tr>\n",
              "    <tr>\n",
              "      <th>3</th>\n",
              "      <td>province_state</td>\n",
              "      <td>object</td>\n",
              "    </tr>\n",
              "    <tr>\n",
              "      <th>4</th>\n",
              "      <td>long</td>\n",
              "      <td>float64</td>\n",
              "    </tr>\n",
              "    <tr>\n",
              "      <th>5</th>\n",
              "      <td>country_region</td>\n",
              "      <td>object</td>\n",
              "    </tr>\n",
              "    <tr>\n",
              "      <th>6</th>\n",
              "      <td>timestamp.date</td>\n",
              "      <td>object</td>\n",
              "    </tr>\n",
              "    <tr>\n",
              "      <th>7</th>\n",
              "      <td>lat</td>\n",
              "      <td>float64</td>\n",
              "    </tr>\n",
              "    <tr>\n",
              "      <th>8</th>\n",
              "      <td>recovered</td>\n",
              "      <td>float64</td>\n",
              "    </tr>\n",
              "  </tbody>\n",
              "</table>\n",
              "</div>"
            ],
            "text/plain": [
              "          VarName    DType\n",
              "0       confirmed  float64\n",
              "1          deaths  float64\n",
              "2       timestamp    int64\n",
              "3  province_state   object\n",
              "4            long  float64\n",
              "5  country_region   object\n",
              "6  timestamp.date   object\n",
              "7             lat  float64\n",
              "8       recovered  float64"
            ]
          },
          "metadata": {
            "tags": []
          },
          "execution_count": 3
        }
      ]
    },
    {
      "cell_type": "markdown",
      "metadata": {
        "colab_type": "text",
        "id": "xbZepZ0zPM1I"
      },
      "source": [
        "<font color='DarkBlue'> **The `df.info()` function also prints the count of non-null values per column. Use this function to review the column names, null value counts and data types of your data frame.**</font>"
      ]
    },
    {
      "cell_type": "code",
      "metadata": {
        "colab_type": "code",
        "id": "0pHnZG1jjU3G",
        "colab": {
          "base_uri": "https://localhost:8080/",
          "height": 289
        },
        "outputId": "3264fd41-3db8-4e9c-b7c2-74e4935f3b32"
      },
      "source": [
        "df.info()"
      ],
      "execution_count": null,
      "outputs": [
        {
          "output_type": "stream",
          "text": [
            "<class 'pandas.core.frame.DataFrame'>\n",
            "RangeIndex: 20357 entries, 0 to 20356\n",
            "Data columns (total 9 columns):\n",
            " #   Column          Non-Null Count  Dtype  \n",
            "---  ------          --------------  -----  \n",
            " 0   confirmed       20332 non-null  float64\n",
            " 1   deaths          20332 non-null  float64\n",
            " 2   timestamp       20357 non-null  int64  \n",
            " 3   province_state  5977 non-null   object \n",
            " 4   long            20357 non-null  float64\n",
            " 5   country_region  20357 non-null  object \n",
            " 6   timestamp.date  20357 non-null  object \n",
            " 7   lat             20357 non-null  float64\n",
            " 8   recovered       19011 non-null  float64\n",
            "dtypes: float64(5), int64(1), object(3)\n",
            "memory usage: 1.4+ MB\n"
          ],
          "name": "stdout"
        }
      ]
    },
    {
      "cell_type": "markdown",
      "metadata": {
        "colab_type": "text",
        "id": "K22bNiPkqsbb"
      },
      "source": [
        "Some of these column names are easy to understand but others are not as clear. We have a metadata file with information about each column to help us understand what the column names refer to. Let's review the about tab on the OpenBlender page."
      ]
    },
    {
      "cell_type": "markdown",
      "metadata": {
        "colab_type": "text",
        "id": "2PuwzPyIfNXf"
      },
      "source": [
        "[OpenBlender Metadata](https://www.openblender.io/#/dataset/about/5e7a0d5d9516296cb86c6263/edition)"
      ]
    },
    {
      "cell_type": "markdown",
      "metadata": {
        "colab_type": "text",
        "id": "kAQHgmbtelgH"
      },
      "source": [
        "There are some null or missing values we will need to mitgate in a later step. However, let's also look at the counts of unique values or codes per column first."
      ]
    },
    {
      "cell_type": "markdown",
      "metadata": {
        "colab_type": "text",
        "id": "atpuAuVTfqB-"
      },
      "source": [
        "### Count of unique values or codes\n",
        "<font color='DarkBlue'> **Print the count of unique values for every column regardless of data type.**</font>"
      ]
    },
    {
      "cell_type": "code",
      "metadata": {
        "colab_type": "code",
        "id": "uPd3Kki096wp",
        "colab": {
          "base_uri": "https://localhost:8080/",
          "height": 187
        },
        "outputId": "abc7ddfe-0930-4e86-b277-910c2f12ae3f"
      },
      "source": [
        "df.nunique()"
      ],
      "execution_count": null,
      "outputs": [
        {
          "output_type": "execute_result",
          "data": {
            "text/plain": [
              "confirmed         2795\n",
              "deaths             827\n",
              "timestamp           91\n",
              "province_state      84\n",
              "long               278\n",
              "country_region     186\n",
              "timestamp.date      91\n",
              "lat                274\n",
              "recovered         1435\n",
              "dtype: int64"
            ]
          },
          "metadata": {
            "tags": []
          },
          "execution_count": 5
        }
      ]
    },
    {
      "cell_type": "markdown",
      "metadata": {
        "colab_type": "text",
        "id": "IpgqbVlqFqJH"
      },
      "source": [
        "<font color='DarkBlue'> **Print the percent of unique values per column.Use the `df.nunique` and the size of the dataframe to calculate the percentages.**</font>"
      ]
    },
    {
      "cell_type": "code",
      "metadata": {
        "colab_type": "code",
        "id": "Zs84OwNJEy2a",
        "colab": {
          "base_uri": "https://localhost:8080/",
          "height": 187
        },
        "outputId": "9a9bf370-ffa1-43d7-f2f8-9cab2cd14f56"
      },
      "source": [
        "print(df.nunique()/df.shape[0])"
      ],
      "execution_count": null,
      "outputs": [
        {
          "output_type": "stream",
          "text": [
            "confirmed         0.137299\n",
            "deaths            0.040625\n",
            "timestamp         0.004470\n",
            "province_state    0.004126\n",
            "long              0.013656\n",
            "country_region    0.009137\n",
            "timestamp.date    0.004470\n",
            "lat               0.013460\n",
            "recovered         0.070492\n",
            "dtype: float64\n"
          ],
          "name": "stdout"
        }
      ]
    },
    {
      "cell_type": "markdown",
      "metadata": {
        "colab_type": "text",
        "id": "aFjEno7hHXRK"
      },
      "source": [
        "For categorical columns it is much more helpful to know what the unique codes are. <font color='DarkBlue'> **For example, if we look at the `country_region` or `province_state` column, let's print out the different countries in the data frame.**</font>"
      ]
    },
    {
      "cell_type": "code",
      "metadata": {
        "colab_type": "code",
        "id": "BMorHSRuIdnI",
        "colab": {
          "base_uri": "https://localhost:8080/",
          "height": 221
        },
        "outputId": "296ce02a-b55e-42d4-f3ce-9ac7e7d9a801"
      },
      "source": [
        "df.country_region.value_counts()"
      ],
      "execution_count": null,
      "outputs": [
        {
          "output_type": "execute_result",
          "data": {
            "text/plain": [
              "China                    2570\n",
              "Canada                   1029\n",
              "France                    800\n",
              "Australia                 671\n",
              "United Kingdom            619\n",
              "                         ... \n",
              "Burundi                     6\n",
              "Yemen                       3\n",
              "Western Sahara              3\n",
              "MS Zaandam                  3\n",
              "Sao Tome and Principe       2\n",
              "Name: country_region, Length: 186, dtype: int64"
            ]
          },
          "metadata": {
            "tags": []
          },
          "execution_count": 7
        }
      ]
    },
    {
      "cell_type": "markdown",
      "metadata": {
        "colab_type": "text",
        "id": "bedbwBrU-3yd"
      },
      "source": [
        "### Range of values per column\n",
        "\n",
        "<font color='DarkBlue'>**Print the minimum and maximum values of each column using the aggregate function.**</font>"
      ]
    },
    {
      "cell_type": "code",
      "metadata": {
        "colab_type": "code",
        "id": "LPJCPG1P-Vvb",
        "colab": {
          "base_uri": "https://localhost:8080/",
          "height": 297
        },
        "outputId": "3982844d-5331-4b22-c5a7-39c3e09a0227"
      },
      "source": [
        "df.agg([min, max]).T"
      ],
      "execution_count": null,
      "outputs": [
        {
          "output_type": "execute_result",
          "data": {
            "text/html": [
              "<div>\n",
              "<style scoped>\n",
              "    .dataframe tbody tr th:only-of-type {\n",
              "        vertical-align: middle;\n",
              "    }\n",
              "\n",
              "    .dataframe tbody tr th {\n",
              "        vertical-align: top;\n",
              "    }\n",
              "\n",
              "    .dataframe thead th {\n",
              "        text-align: right;\n",
              "    }\n",
              "</style>\n",
              "<table border=\"1\" class=\"dataframe\">\n",
              "  <thead>\n",
              "    <tr style=\"text-align: right;\">\n",
              "      <th></th>\n",
              "      <th>min</th>\n",
              "      <th>max</th>\n",
              "    </tr>\n",
              "  </thead>\n",
              "  <tbody>\n",
              "    <tr>\n",
              "      <th>confirmed</th>\n",
              "      <td>-1</td>\n",
              "      <td>839675</td>\n",
              "    </tr>\n",
              "    <tr>\n",
              "      <th>deaths</th>\n",
              "      <td>-1</td>\n",
              "      <td>46583</td>\n",
              "    </tr>\n",
              "    <tr>\n",
              "      <th>timestamp</th>\n",
              "      <td>1579694400</td>\n",
              "      <td>1587556800</td>\n",
              "    </tr>\n",
              "    <tr>\n",
              "      <th>long</th>\n",
              "      <td>-75152</td>\n",
              "      <td>149124</td>\n",
              "    </tr>\n",
              "    <tr>\n",
              "      <th>country_region</th>\n",
              "      <td>Afghanistan</td>\n",
              "      <td>Zimbabwe</td>\n",
              "    </tr>\n",
              "    <tr>\n",
              "      <th>timestamp.date</th>\n",
              "      <td>2020-01-22</td>\n",
              "      <td>2020-04-22</td>\n",
              "    </tr>\n",
              "    <tr>\n",
              "      <th>lat</th>\n",
              "      <td>-28167</td>\n",
              "      <td>48196</td>\n",
              "    </tr>\n",
              "    <tr>\n",
              "      <th>recovered</th>\n",
              "      <td>0</td>\n",
              "      <td>99400</td>\n",
              "    </tr>\n",
              "  </tbody>\n",
              "</table>\n",
              "</div>"
            ],
            "text/plain": [
              "                        min         max\n",
              "confirmed                -1      839675\n",
              "deaths                   -1       46583\n",
              "timestamp        1579694400  1587556800\n",
              "long                 -75152      149124\n",
              "country_region  Afghanistan    Zimbabwe\n",
              "timestamp.date   2020-01-22  2020-04-22\n",
              "lat                  -28167       48196\n",
              "recovered                 0       99400"
            ]
          },
          "metadata": {
            "tags": []
          },
          "execution_count": 9
        }
      ]
    },
    {
      "cell_type": "markdown",
      "metadata": {
        "id": "RpgwwB98XjyR",
        "colab_type": "text"
      },
      "source": [
        "<font color='DarkBlue'> **Review the numeric data sets summary statistics.**</font>"
      ]
    },
    {
      "cell_type": "code",
      "metadata": {
        "colab_type": "code",
        "id": "2IKIsz8qjRK6",
        "colab": {
          "base_uri": "https://localhost:8080/",
          "height": 235
        },
        "outputId": "42a40e1a-30d1-45fc-d8df-d490a138acf5"
      },
      "source": [
        "df.describe().T"
      ],
      "execution_count": null,
      "outputs": [
        {
          "output_type": "execute_result",
          "data": {
            "text/html": [
              "<div>\n",
              "<style scoped>\n",
              "    .dataframe tbody tr th:only-of-type {\n",
              "        vertical-align: middle;\n",
              "    }\n",
              "\n",
              "    .dataframe tbody tr th {\n",
              "        vertical-align: top;\n",
              "    }\n",
              "\n",
              "    .dataframe thead th {\n",
              "        text-align: right;\n",
              "    }\n",
              "</style>\n",
              "<table border=\"1\" class=\"dataframe\">\n",
              "  <thead>\n",
              "    <tr style=\"text-align: right;\">\n",
              "      <th></th>\n",
              "      <th>count</th>\n",
              "      <th>mean</th>\n",
              "      <th>std</th>\n",
              "      <th>min</th>\n",
              "      <th>25%</th>\n",
              "      <th>50%</th>\n",
              "      <th>75%</th>\n",
              "      <th>max</th>\n",
              "    </tr>\n",
              "  </thead>\n",
              "  <tbody>\n",
              "    <tr>\n",
              "      <th>confirmed</th>\n",
              "      <td>20332.0</td>\n",
              "      <td>2.422851e+03</td>\n",
              "      <td>2.199868e+04</td>\n",
              "      <td>-1.000000e+00</td>\n",
              "      <td>0.000000e+00</td>\n",
              "      <td>4.000000e+00</td>\n",
              "      <td>1.960000e+02</td>\n",
              "      <td>8.396750e+05</td>\n",
              "    </tr>\n",
              "    <tr>\n",
              "      <th>deaths</th>\n",
              "      <td>20332.0</td>\n",
              "      <td>1.426127e+02</td>\n",
              "      <td>1.423244e+03</td>\n",
              "      <td>-1.000000e+00</td>\n",
              "      <td>0.000000e+00</td>\n",
              "      <td>0.000000e+00</td>\n",
              "      <td>2.000000e+00</td>\n",
              "      <td>4.658300e+04</td>\n",
              "    </tr>\n",
              "    <tr>\n",
              "      <th>timestamp</th>\n",
              "      <td>20357.0</td>\n",
              "      <td>1.583429e+09</td>\n",
              "      <td>2.251456e+06</td>\n",
              "      <td>1.579694e+09</td>\n",
              "      <td>1.581509e+09</td>\n",
              "      <td>1.583323e+09</td>\n",
              "      <td>1.585310e+09</td>\n",
              "      <td>1.587557e+09</td>\n",
              "    </tr>\n",
              "    <tr>\n",
              "      <th>long</th>\n",
              "      <td>20357.0</td>\n",
              "      <td>1.072543e+02</td>\n",
              "      <td>8.488791e+03</td>\n",
              "      <td>-7.515200e+04</td>\n",
              "      <td>-1.445240e+01</td>\n",
              "      <td>2.175870e+01</td>\n",
              "      <td>8.809240e+01</td>\n",
              "      <td>1.491240e+05</td>\n",
              "    </tr>\n",
              "    <tr>\n",
              "      <th>lat</th>\n",
              "      <td>20357.0</td>\n",
              "      <td>4.811322e+02</td>\n",
              "      <td>4.345314e+03</td>\n",
              "      <td>-2.816700e+04</td>\n",
              "      <td>7.946500e+00</td>\n",
              "      <td>2.535480e+01</td>\n",
              "      <td>4.250630e+01</td>\n",
              "      <td>4.819600e+04</td>\n",
              "    </tr>\n",
              "    <tr>\n",
              "      <th>recovered</th>\n",
              "      <td>19011.0</td>\n",
              "      <td>6.266237e+02</td>\n",
              "      <td>5.034230e+03</td>\n",
              "      <td>0.000000e+00</td>\n",
              "      <td>0.000000e+00</td>\n",
              "      <td>0.000000e+00</td>\n",
              "      <td>2.500000e+01</td>\n",
              "      <td>9.940000e+04</td>\n",
              "    </tr>\n",
              "  </tbody>\n",
              "</table>\n",
              "</div>"
            ],
            "text/plain": [
              "             count          mean  ...           75%           max\n",
              "confirmed  20332.0  2.422851e+03  ...  1.960000e+02  8.396750e+05\n",
              "deaths     20332.0  1.426127e+02  ...  2.000000e+00  4.658300e+04\n",
              "timestamp  20357.0  1.583429e+09  ...  1.585310e+09  1.587557e+09\n",
              "long       20357.0  1.072543e+02  ...  8.809240e+01  1.491240e+05\n",
              "lat        20357.0  4.811322e+02  ...  4.250630e+01  4.819600e+04\n",
              "recovered  19011.0  6.266237e+02  ...  2.500000e+01  9.940000e+04\n",
              "\n",
              "[6 rows x 8 columns]"
            ]
          },
          "metadata": {
            "tags": []
          },
          "execution_count": 10
        }
      ]
    },
    {
      "cell_type": "markdown",
      "metadata": {
        "colab_type": "text",
        "id": "lSQPIPX89mC0"
      },
      "source": [
        "## Data Cleaning"
      ]
    },
    {
      "cell_type": "markdown",
      "metadata": {
        "colab_type": "text",
        "id": "ufPXh3kYL9ni"
      },
      "source": [
        "### Handle the missing and NA values\n",
        "Run the code below to print out the percent of each feature that is missing. "
      ]
    },
    {
      "cell_type": "code",
      "metadata": {
        "colab_type": "code",
        "id": "tP876MPtg5ak",
        "colab": {
          "base_uri": "https://localhost:8080/",
          "height": 173
        },
        "outputId": "4bb982b3-0cbb-4e47-ee17-95e02be7b8dc"
      },
      "source": [
        "nas=pd.DataFrame(df.isnull().sum().sort_values(ascending=False)/len(df),columns = ['percent'])\n",
        "pos = nas['percent'] > 0\n",
        "nas[pos]"
      ],
      "execution_count": null,
      "outputs": [
        {
          "output_type": "execute_result",
          "data": {
            "text/html": [
              "<div>\n",
              "<style scoped>\n",
              "    .dataframe tbody tr th:only-of-type {\n",
              "        vertical-align: middle;\n",
              "    }\n",
              "\n",
              "    .dataframe tbody tr th {\n",
              "        vertical-align: top;\n",
              "    }\n",
              "\n",
              "    .dataframe thead th {\n",
              "        text-align: right;\n",
              "    }\n",
              "</style>\n",
              "<table border=\"1\" class=\"dataframe\">\n",
              "  <thead>\n",
              "    <tr style=\"text-align: right;\">\n",
              "      <th></th>\n",
              "      <th>percent</th>\n",
              "    </tr>\n",
              "  </thead>\n",
              "  <tbody>\n",
              "    <tr>\n",
              "      <th>province_state</th>\n",
              "      <td>0.706391</td>\n",
              "    </tr>\n",
              "    <tr>\n",
              "      <th>recovered</th>\n",
              "      <td>0.066120</td>\n",
              "    </tr>\n",
              "    <tr>\n",
              "      <th>deaths</th>\n",
              "      <td>0.001228</td>\n",
              "    </tr>\n",
              "    <tr>\n",
              "      <th>confirmed</th>\n",
              "      <td>0.001228</td>\n",
              "    </tr>\n",
              "  </tbody>\n",
              "</table>\n",
              "</div>"
            ],
            "text/plain": [
              "                 percent\n",
              "province_state  0.706391\n",
              "recovered       0.066120\n",
              "deaths          0.001228\n",
              "confirmed       0.001228"
            ]
          },
          "metadata": {
            "tags": []
          },
          "execution_count": 11
        }
      ]
    },
    {
      "cell_type": "code",
      "metadata": {
        "id": "vBLTLhyX-B3z",
        "colab_type": "code",
        "colab": {
          "base_uri": "https://localhost:8080/",
          "height": 187
        },
        "outputId": "1f054cf0-94fc-4953-a064-d932995ce0c7"
      },
      "source": [
        "df.isnull().sum().sort_values(ascending=False)"
      ],
      "execution_count": null,
      "outputs": [
        {
          "output_type": "execute_result",
          "data": {
            "text/plain": [
              "province_state    14380\n",
              "recovered          1346\n",
              "deaths               25\n",
              "confirmed            25\n",
              "lat                   0\n",
              "timestamp.date        0\n",
              "country_region        0\n",
              "long                  0\n",
              "timestamp             0\n",
              "dtype: int64"
            ]
          },
          "metadata": {
            "tags": []
          },
          "execution_count": 12
        }
      ]
    },
    {
      "cell_type": "markdown",
      "metadata": {
        "colab_type": "text",
        "id": "4JX9cGoecv5W"
      },
      "source": [
        "**<font color='DarkBlue'> We want to maintain as much data as possible, therefore we will fill null values in `province_state` with 'missing` and the others with with zero.</font>**"
      ]
    },
    {
      "cell_type": "code",
      "metadata": {
        "id": "CVU3Zu6I-vix",
        "colab_type": "code",
        "colab": {}
      },
      "source": [
        "df['province_state'] = df['province_state'].fillna('missing')"
      ],
      "execution_count": null,
      "outputs": []
    },
    {
      "cell_type": "code",
      "metadata": {
        "id": "97D9Kx3k--QX",
        "colab_type": "code",
        "colab": {}
      },
      "source": [
        "df['recovered'].fillna(0, inplace=True)\n",
        "df['deaths'].fillna(0, inplace=True)\n",
        "df['confirmed'].fillna(0, inplace=True)"
      ],
      "execution_count": null,
      "outputs": []
    },
    {
      "cell_type": "code",
      "metadata": {
        "colab_type": "code",
        "id": "g0wPY6L0c9Uj",
        "colab": {
          "base_uri": "https://localhost:8080/",
          "height": 187
        },
        "outputId": "fe65499c-1841-48fd-ece4-7ff579ed7a4e"
      },
      "source": [
        "df.isnull().sum().sort_values(ascending=False)"
      ],
      "execution_count": null,
      "outputs": [
        {
          "output_type": "execute_result",
          "data": {
            "text/plain": [
              "recovered         0\n",
              "lat               0\n",
              "timestamp.date    0\n",
              "country_region    0\n",
              "long              0\n",
              "province_state    0\n",
              "timestamp         0\n",
              "deaths            0\n",
              "confirmed         0\n",
              "dtype: int64"
            ]
          },
          "metadata": {
            "tags": []
          },
          "execution_count": 15
        }
      ]
    },
    {
      "cell_type": "markdown",
      "metadata": {
        "id": "iaSEQ44DXjyv",
        "colab_type": "text"
      },
      "source": [
        "### Look for duplicate rows\n",
        "Run the code below to print out the duplicated rows."
      ]
    },
    {
      "cell_type": "code",
      "metadata": {
        "id": "xp2QsNvRXjyw",
        "colab_type": "code",
        "colab": {
          "base_uri": "https://localhost:8080/",
          "height": 204
        },
        "outputId": "2ae37c1e-b1e9-423e-af71-bc6ed9c2cf40"
      },
      "source": [
        "duplicateRowsDF = df[df.duplicated()]\n",
        "duplicateRowsDF"
      ],
      "execution_count": null,
      "outputs": [
        {
          "output_type": "execute_result",
          "data": {
            "text/html": [
              "<div>\n",
              "<style scoped>\n",
              "    .dataframe tbody tr th:only-of-type {\n",
              "        vertical-align: middle;\n",
              "    }\n",
              "\n",
              "    .dataframe tbody tr th {\n",
              "        vertical-align: top;\n",
              "    }\n",
              "\n",
              "    .dataframe thead th {\n",
              "        text-align: right;\n",
              "    }\n",
              "</style>\n",
              "<table border=\"1\" class=\"dataframe\">\n",
              "  <thead>\n",
              "    <tr style=\"text-align: right;\">\n",
              "      <th></th>\n",
              "      <th>confirmed</th>\n",
              "      <th>deaths</th>\n",
              "      <th>timestamp</th>\n",
              "      <th>province_state</th>\n",
              "      <th>long</th>\n",
              "      <th>country_region</th>\n",
              "      <th>timestamp.date</th>\n",
              "      <th>lat</th>\n",
              "      <th>recovered</th>\n",
              "    </tr>\n",
              "  </thead>\n",
              "  <tbody>\n",
              "    <tr>\n",
              "      <th>4773</th>\n",
              "      <td>17.0</td>\n",
              "      <td>0.0</td>\n",
              "      <td>1585396800</td>\n",
              "      <td>Bermuda</td>\n",
              "      <td>-64.7505</td>\n",
              "      <td>United Kingdom</td>\n",
              "      <td>2020-03-28</td>\n",
              "      <td>32.3078</td>\n",
              "      <td>2.0</td>\n",
              "    </tr>\n",
              "    <tr>\n",
              "      <th>4794</th>\n",
              "      <td>548.0</td>\n",
              "      <td>3.0</td>\n",
              "      <td>1585396800</td>\n",
              "      <td>Sichuan</td>\n",
              "      <td>102.7103</td>\n",
              "      <td>China</td>\n",
              "      <td>2020-03-28</td>\n",
              "      <td>30.6171</td>\n",
              "      <td>536.0</td>\n",
              "    </tr>\n",
              "    <tr>\n",
              "      <th>4795</th>\n",
              "      <td>135.0</td>\n",
              "      <td>0.0</td>\n",
              "      <td>1585396800</td>\n",
              "      <td>Shanxi</td>\n",
              "      <td>112.2922</td>\n",
              "      <td>China</td>\n",
              "      <td>2020-03-28</td>\n",
              "      <td>37.5777</td>\n",
              "      <td>133.0</td>\n",
              "    </tr>\n",
              "    <tr>\n",
              "      <th>4803</th>\n",
              "      <td>936.0</td>\n",
              "      <td>1.0</td>\n",
              "      <td>1585396800</td>\n",
              "      <td>Jiangxi</td>\n",
              "      <td>115.7221</td>\n",
              "      <td>China</td>\n",
              "      <td>2020-03-28</td>\n",
              "      <td>27.6140</td>\n",
              "      <td>934.0</td>\n",
              "    </tr>\n",
              "    <tr>\n",
              "      <th>4804</th>\n",
              "      <td>641.0</td>\n",
              "      <td>0.0</td>\n",
              "      <td>1585396800</td>\n",
              "      <td>Jiangsu</td>\n",
              "      <td>119.4550</td>\n",
              "      <td>China</td>\n",
              "      <td>2020-03-28</td>\n",
              "      <td>32.9711</td>\n",
              "      <td>631.0</td>\n",
              "    </tr>\n",
              "  </tbody>\n",
              "</table>\n",
              "</div>"
            ],
            "text/plain": [
              "      confirmed  deaths   timestamp  ... timestamp.date      lat recovered\n",
              "4773       17.0     0.0  1585396800  ...     2020-03-28  32.3078       2.0\n",
              "4794      548.0     3.0  1585396800  ...     2020-03-28  30.6171     536.0\n",
              "4795      135.0     0.0  1585396800  ...     2020-03-28  37.5777     133.0\n",
              "4803      936.0     1.0  1585396800  ...     2020-03-28  27.6140     934.0\n",
              "4804      641.0     0.0  1585396800  ...     2020-03-28  32.9711     631.0\n",
              "\n",
              "[5 rows x 9 columns]"
            ]
          },
          "metadata": {
            "tags": []
          },
          "execution_count": 16
        }
      ]
    },
    {
      "cell_type": "markdown",
      "metadata": {
        "id": "ZjUZfe--AyYG",
        "colab_type": "text"
      },
      "source": [
        "Now delete the duplicates from the dataframe."
      ]
    },
    {
      "cell_type": "code",
      "metadata": {
        "id": "Mr48OUQjC--d",
        "colab_type": "code",
        "colab": {}
      },
      "source": [
        "df.drop_duplicates(keep=False, inplace=True)"
      ],
      "execution_count": null,
      "outputs": []
    },
    {
      "cell_type": "markdown",
      "metadata": {
        "colab_type": "text",
        "id": "dWqT9uvWiypo"
      },
      "source": [
        "## Export clean data to a new csv file \n",
        "In order to bring the changes we made here into the next notebook we are going to write out the updated data frame to a new csv file."
      ]
    },
    {
      "cell_type": "markdown",
      "metadata": {
        "id": "1RYyQ5swXjy0",
        "colab_type": "text"
      },
      "source": [
        "<font color='DarkBlue'> **Export the processed dataframe as a csv file to the data folder we created earlier. Name this new csv file `step2_output.csv` and set the paramter, index=False.**</font>"
      ]
    },
    {
      "cell_type": "code",
      "metadata": {
        "colab_type": "code",
        "id": "M4lsWjImoc3C",
        "colab": {}
      },
      "source": [
        "df.to_csv('data/step2_output.csv',index=False)"
      ],
      "execution_count": null,
      "outputs": []
    },
    {
      "cell_type": "markdown",
      "metadata": {
        "colab_type": "text",
        "id": "KGMPQOFolxvs"
      },
      "source": [
        "The data transformations created in this step of the DSM are all generally steps to be applied to any data science project. However, the decisions we made about how to handle the missing and NA data are specific to the problem at hand. In the next step of the DSM and the next Guided Capstone Notebook you will see how all these steps prepare the data for exploratory data analysis."
      ]
    }
  ]
}
