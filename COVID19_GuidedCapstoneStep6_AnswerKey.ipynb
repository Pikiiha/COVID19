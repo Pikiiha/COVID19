{
  "nbformat": 4,
  "nbformat_minor": 0,
  "metadata": {
    "colab": {
      "name": "COVID19_GuidedCapstoneStep6_AnswerKey.ipynb",
      "provenance": [],
      "collapsed_sections": []
    },
    "kernelspec": {
      "display_name": "Python 3",
      "language": "python",
      "name": "python3"
    },
    "language_info": {
      "codemirror_mode": {
        "name": "ipython",
        "version": 3
      },
      "file_extension": ".py",
      "mimetype": "text/x-python",
      "name": "python",
      "nbconvert_exporter": "python",
      "pygments_lexer": "ipython3",
      "version": "3.6.6"
    },
    "toc": {
      "base_numbering": "0",
      "nav_menu": {},
      "number_sections": true,
      "sideBar": true,
      "skip_h1_title": false,
      "title_cell": "Table of Contents",
      "title_sidebar": "Contents",
      "toc_cell": true,
      "toc_position": {
        "height": "calc(100% - 180px)",
        "left": "10px",
        "top": "150px",
        "width": "288px"
      },
      "toc_section_display": true,
      "toc_window_display": true
    }
  },
  "cells": [
    {
      "cell_type": "markdown",
      "metadata": {
        "colab_type": "text",
        "id": "cf5CmXQCZyF1"
      },
      "source": [
        "# Guided Capstone Step 6 - Answer Key"
      ]
    },
    {
      "cell_type": "markdown",
      "metadata": {
        "colab_type": "text",
        "id": "JbZXsVevfr9M"
      },
      "source": [
        "**The Data Science Method**  \n",
        "\n",
        "\n",
        "1.   Problem Identification \n",
        "\n",
        "\n",
        "2.   Data Wrangling \n",
        "  \n",
        " \n",
        "3.   Exploratory Data Analysis   \n",
        "\n",
        "4.   Pre-processing and Training Data Development  \n",
        " * Create dummy or indicator features for categorical variables\n",
        "  * Standardize the magnitude of numeric features\n",
        "  * Split into testing and training datasets\n",
        "  * Apply scaler to the testing set\n",
        "5.   **Modeling** \n",
        "  * Fit Models with Training Data Set\n",
        "  * Review Model Outcomes — Iterate over additional models as needed.\n",
        "  * Identify the Final Model\n",
        "\n",
        "6.   **Documentation**\n",
        "  * Review the Results\n",
        "  * Present and share your findings - storytelling\n",
        "  * Finalize Code \n",
        "  * Finalize Documentation"
      ]
    },
    {
      "cell_type": "markdown",
      "metadata": {
        "colab_type": "text",
        "id": "K8xfkAqqZyF2"
      },
      "source": [
        "**<font color='DarkBlue'> Start by loading the necessary packages as we did in previous steps and printing out our current working directory just to confirm we are in the correct project directory. </font>**"
      ]
    },
    {
      "cell_type": "code",
      "metadata": {
        "colab_type": "code",
        "id": "ry6WPL5eZyF3",
        "colab": {}
      },
      "source": [
        "import os\n",
        "import pandas as pd\n",
        "import datetime\n",
        "import seaborn as sns\n",
        "from matplotlib import pyplot as plt\n",
        "import json\n",
        "%matplotlib inline\n",
        "import plotly.graph_objects as go \n",
        "import numpy as np\n",
        "from sklearn.impute import SimpleImputer\n",
        "from sklearn import preprocessing\n",
        "from sklearn.linear_model import Lasso\n",
        "from sklearn.model_selection import cross_val_score\n",
        "from sklearn.metrics import mean_squared_error,explained_variance_score,mean_absolute_error\n",
        "from math import sqrt\n",
        "from sklearn.metrics import explained_variance_score"
      ],
      "execution_count": null,
      "outputs": []
    },
    {
      "cell_type": "markdown",
      "metadata": {
        "id": "KOwIr2c_4MKU",
        "colab_type": "text"
      },
      "source": [
        "**<font color='DarkBlue'> Print the list of files in the current working directory to confirm you are in the correct project directory. </font>**"
      ]
    },
    {
      "cell_type": "code",
      "metadata": {
        "id": "SyY_RyJ44MKV",
        "colab_type": "code",
        "colab": {},
        "outputId": "796685ab-a812-415d-bbef-b598ad057186"
      },
      "source": [
        "os.listdir()"
      ],
      "execution_count": null,
      "outputs": [
        {
          "output_type": "execute_result",
          "data": {
            "text/plain": [
              "['.ipynb_checkpoints',\n",
              " 'COVID19_GuidedCapstoneSteps_1_and_2_noapi_answerkey.ipynb',\n",
              " 'COVID19_GuidedCapstoneStep6_AnswerKey.ipynb',\n",
              " 'COVID19_GuidedCapstoneStep4andStep5_AnswerKey.ipynb',\n",
              " 'COVID19_GuidedCapstoneStep3_AnswerKey.ipynb']"
            ]
          },
          "metadata": {
            "tags": []
          },
          "execution_count": 7
        }
      ]
    },
    {
      "cell_type": "markdown",
      "metadata": {
        "colab_type": "text",
        "id": "630T-ogRZyF8"
      },
      "source": [
        "**<font color='DarkBlue'> If you need to change your path refer back to the notebook on steps 1 & 2 on how to do that. Then load the csv file remember it should be saved inside your data subfolder and print the first five rows.</font>**"
      ]
    },
    {
      "cell_type": "code",
      "metadata": {
        "id": "QCDA0PHo4MKZ",
        "colab_type": "code",
        "colab": {}
      },
      "source": [
        "file='https://raw.githubusercontent.com/AVJdataminer/COVID19_GC/master/data/1590861594.6363733.csv'\n",
        "df_confirmed=pd.read_csv(file)\n",
        "df_confirmed.head()"
      ],
      "execution_count": null,
      "outputs": []
    },
    {
      "cell_type": "markdown",
      "metadata": {
        "colab_type": "text",
        "id": "Xm99nA1sDOld"
      },
      "source": [
        "### Create timeseries data, select only date and confirmed cases from the training data."
      ]
    },
    {
      "cell_type": "code",
      "metadata": {
        "colab_type": "code",
        "id": "eZ6gjEE9i6Nw",
        "colab": {
          "base_uri": "https://localhost:8080/",
          "height": 153
        },
        "outputId": "7f2e631b-45f3-4aec-d763-fa5d56b4d2f3"
      },
      "source": [
        "#create timeseries data, so only date and confirmed cases data frame.\n",
        "df_confirmed = df_confirmed[df_confirmed['country_region']=='US']\n",
        "cdf = df_confirmed[['timestamp.date', 'confirmed']]\n",
        "cdf['date'] = pd.to_datetime(cdf['timestamp.date'])\n",
        "cdf.sort_values(by ='date', inplace=True,ascending =True)\n",
        "cdf = cdf.drop('timestamp.date', axis =1)\n",
        "cdf.set_index('date', inplace = True)"
      ],
      "execution_count": null,
      "outputs": [
        {
          "output_type": "stream",
          "text": [
            "/home/ubuntu/anaconda3/lib/python3.6/site-packages/ipykernel_launcher.py:4: SettingWithCopyWarning:\n",
            "\n",
            "\n",
            "A value is trying to be set on a copy of a slice from a DataFrame.\n",
            "Try using .loc[row_indexer,col_indexer] = value instead\n",
            "\n",
            "See the caveats in the documentation: http://pandas.pydata.org/pandas-docs/stable/indexing.html#indexing-view-versus-copy\n",
            "\n",
            "/home/ubuntu/anaconda3/lib/python3.6/site-packages/ipykernel_launcher.py:5: SettingWithCopyWarning:\n",
            "\n",
            "\n",
            "A value is trying to be set on a copy of a slice from a DataFrame\n",
            "\n",
            "See the caveats in the documentation: http://pandas.pydata.org/pandas-docs/stable/indexing.html#indexing-view-versus-copy\n",
            "\n"
          ],
          "name": "stderr"
        }
      ]
    },
    {
      "cell_type": "code",
      "metadata": {
        "id": "zbPXM01J4MKe",
        "colab_type": "code",
        "colab": {},
        "outputId": "d015f79a-c1e0-4a09-ffe5-cf7f7b2adf5b"
      },
      "source": [
        "cdf.head()"
      ],
      "execution_count": null,
      "outputs": [
        {
          "output_type": "execute_result",
          "data": {
            "text/html": [
              "<div>\n",
              "<style scoped>\n",
              "    .dataframe tbody tr th:only-of-type {\n",
              "        vertical-align: middle;\n",
              "    }\n",
              "\n",
              "    .dataframe tbody tr th {\n",
              "        vertical-align: top;\n",
              "    }\n",
              "\n",
              "    .dataframe thead th {\n",
              "        text-align: right;\n",
              "    }\n",
              "</style>\n",
              "<table border=\"1\" class=\"dataframe\">\n",
              "  <thead>\n",
              "    <tr style=\"text-align: right;\">\n",
              "      <th></th>\n",
              "      <th>confirmed</th>\n",
              "    </tr>\n",
              "    <tr>\n",
              "      <th>date</th>\n",
              "      <th></th>\n",
              "    </tr>\n",
              "  </thead>\n",
              "  <tbody>\n",
              "    <tr>\n",
              "      <th>2020-03-15</th>\n",
              "      <td>3499</td>\n",
              "    </tr>\n",
              "    <tr>\n",
              "      <th>2020-03-16</th>\n",
              "      <td>4632</td>\n",
              "    </tr>\n",
              "    <tr>\n",
              "      <th>2020-03-17</th>\n",
              "      <td>6421</td>\n",
              "    </tr>\n",
              "    <tr>\n",
              "      <th>2020-03-18</th>\n",
              "      <td>7783</td>\n",
              "    </tr>\n",
              "    <tr>\n",
              "      <th>2020-03-19</th>\n",
              "      <td>13677</td>\n",
              "    </tr>\n",
              "  </tbody>\n",
              "</table>\n",
              "</div>"
            ],
            "text/plain": [
              "           confirmed\n",
              "date                \n",
              "2020-03-15      3499\n",
              "2020-03-16      4632\n",
              "2020-03-17      6421\n",
              "2020-03-18      7783\n",
              "2020-03-19     13677"
            ]
          },
          "metadata": {
            "tags": []
          },
          "execution_count": 111
        }
      ]
    },
    {
      "cell_type": "code",
      "metadata": {
        "id": "LsHJPG4R4MKh",
        "colab_type": "code",
        "colab": {},
        "outputId": "2e2bd98d-9da4-40bb-fd25-e01e5f4c45cd"
      },
      "source": [
        "cdf.info()"
      ],
      "execution_count": null,
      "outputs": [
        {
          "output_type": "stream",
          "text": [
            "<class 'pandas.core.frame.DataFrame'>\n",
            "DatetimeIndex: 61 entries, 2020-03-15 to 2020-05-29\n",
            "Data columns (total 2 columns):\n",
            "timestamp.date    61 non-null object\n",
            "confirmed         61 non-null object\n",
            "dtypes: object(2)\n",
            "memory usage: 1.4+ KB\n"
          ],
          "name": "stdout"
        }
      ]
    },
    {
      "cell_type": "markdown",
      "metadata": {
        "id": "Y5GBdldA4MKk",
        "colab_type": "text"
      },
      "source": [
        "Resample the data as daily timeseries, using a`asfreq('D')` "
      ]
    },
    {
      "cell_type": "code",
      "metadata": {
        "id": "d6v2SR6x4MKk",
        "colab_type": "code",
        "colab": {},
        "outputId": "93b6ee07-0365-4ef8-e15e-9b511b2cc796"
      },
      "source": [
        "cdf = cdf.asfreq('D')\n",
        "cdf.info()"
      ],
      "execution_count": null,
      "outputs": [
        {
          "output_type": "stream",
          "text": [
            "<class 'pandas.core.frame.DataFrame'>\n",
            "DatetimeIndex: 76 entries, 2020-03-15 to 2020-05-29\n",
            "Freq: D\n",
            "Data columns (total 1 columns):\n",
            "confirmed    61 non-null object\n",
            "dtypes: object(1)\n",
            "memory usage: 1.2+ KB\n"
          ],
          "name": "stdout"
        }
      ]
    },
    {
      "cell_type": "code",
      "metadata": {
        "id": "ENeXRCo94MKn",
        "colab_type": "code",
        "colab": {},
        "outputId": "737eb1dc-afae-4227-cc96-90e443ce5673"
      },
      "source": [
        "cdf.isnull().sum()"
      ],
      "execution_count": null,
      "outputs": [
        {
          "output_type": "execute_result",
          "data": {
            "text/plain": [
              "confirmed    15\n",
              "dtype: int64"
            ]
          },
          "metadata": {
            "tags": []
          },
          "execution_count": 114
        }
      ]
    },
    {
      "cell_type": "markdown",
      "metadata": {
        "id": "jDt8yxYr4MKp",
        "colab_type": "text"
      },
      "source": [
        "Notice the size now changed to 76 entries. The reason for this is that some dates in our time frame had no reported confirmed cases, these are probably weekends and holidays."
      ]
    },
    {
      "cell_type": "markdown",
      "metadata": {
        "id": "KvQeiskS4MKq",
        "colab_type": "text"
      },
      "source": [
        "Now we need to fill the Nan values from the additional dates. We will use a linear interpolation to fill the null values. First we need to set the column to numeric."
      ]
    },
    {
      "cell_type": "code",
      "metadata": {
        "id": "sz75R7pl4MKq",
        "colab_type": "code",
        "colab": {},
        "outputId": "c3f6c9eb-6a20-41cb-eb4b-f90d1c899636"
      },
      "source": [
        "cdf['confirmed'] = pd.to_numeric(cdf['confirmed'])\n",
        "cdf = cdf.interpolate(method='linear', limit_direction='forward')\n",
        "cdf.head()"
      ],
      "execution_count": null,
      "outputs": [
        {
          "output_type": "execute_result",
          "data": {
            "text/html": [
              "<div>\n",
              "<style scoped>\n",
              "    .dataframe tbody tr th:only-of-type {\n",
              "        vertical-align: middle;\n",
              "    }\n",
              "\n",
              "    .dataframe tbody tr th {\n",
              "        vertical-align: top;\n",
              "    }\n",
              "\n",
              "    .dataframe thead th {\n",
              "        text-align: right;\n",
              "    }\n",
              "</style>\n",
              "<table border=\"1\" class=\"dataframe\">\n",
              "  <thead>\n",
              "    <tr style=\"text-align: right;\">\n",
              "      <th></th>\n",
              "      <th>confirmed</th>\n",
              "    </tr>\n",
              "    <tr>\n",
              "      <th>date</th>\n",
              "      <th></th>\n",
              "    </tr>\n",
              "  </thead>\n",
              "  <tbody>\n",
              "    <tr>\n",
              "      <th>2020-03-15</th>\n",
              "      <td>3499.0</td>\n",
              "    </tr>\n",
              "    <tr>\n",
              "      <th>2020-03-16</th>\n",
              "      <td>4632.0</td>\n",
              "    </tr>\n",
              "    <tr>\n",
              "      <th>2020-03-17</th>\n",
              "      <td>6421.0</td>\n",
              "    </tr>\n",
              "    <tr>\n",
              "      <th>2020-03-18</th>\n",
              "      <td>7783.0</td>\n",
              "    </tr>\n",
              "    <tr>\n",
              "      <th>2020-03-19</th>\n",
              "      <td>13677.0</td>\n",
              "    </tr>\n",
              "  </tbody>\n",
              "</table>\n",
              "</div>"
            ],
            "text/plain": [
              "            confirmed\n",
              "date                 \n",
              "2020-03-15     3499.0\n",
              "2020-03-16     4632.0\n",
              "2020-03-17     6421.0\n",
              "2020-03-18     7783.0\n",
              "2020-03-19    13677.0"
            ]
          },
          "metadata": {
            "tags": []
          },
          "execution_count": 123
        }
      ]
    },
    {
      "cell_type": "markdown",
      "metadata": {
        "colab_type": "text",
        "id": "GAT8h4_mZyGK"
      },
      "source": [
        "## Split into training and testing datasets"
      ]
    },
    {
      "cell_type": "markdown",
      "metadata": {
        "colab_type": "text",
        "id": "1zDMyE5ui6Mx"
      },
      "source": [
        "**<font color='DarkBlue'> Split the data into training and testing data subset based on the order the data is sorted in.</font>** "
      ]
    },
    {
      "cell_type": "code",
      "metadata": {
        "id": "lql4b7bB4MKt",
        "colab_type": "code",
        "colab": {}
      },
      "source": [
        "from sklearn.model_selection import train_test_split\n",
        "df_train, df_test = train_test_split(cdf, test_size=0.2, shuffle=False)"
      ],
      "execution_count": null,
      "outputs": []
    },
    {
      "cell_type": "code",
      "metadata": {
        "id": "OarAezE14MKw",
        "colab_type": "code",
        "colab": {},
        "outputId": "4468a61d-afd0-4b4f-8c7d-f04428f4a995"
      },
      "source": [
        "df_test.shape"
      ],
      "execution_count": null,
      "outputs": [
        {
          "output_type": "execute_result",
          "data": {
            "text/plain": [
              "(16, 1)"
            ]
          },
          "metadata": {
            "tags": []
          },
          "execution_count": 139
        }
      ]
    },
    {
      "cell_type": "markdown",
      "metadata": {
        "colab_type": "text",
        "id": "yGPk6KXVZjjX"
      },
      "source": [
        "## Model Confirmed cases with ARIMA"
      ]
    },
    {
      "cell_type": "markdown",
      "metadata": {
        "colab_type": "text",
        "id": "lKrAQD4ADOlE"
      },
      "source": [
        "In the last notebook we compared three different ARIMA models and based on the AIC values selected one of the models to use."
      ]
    },
    {
      "cell_type": "markdown",
      "metadata": {
        "id": "_vu1UKVB4MKz",
        "colab_type": "text"
      },
      "source": [
        "**<font color='DarkBlue'> Fit the best ARIMA model as we did in the step four and five notebook. </font>**"
      ]
    },
    {
      "cell_type": "code",
      "metadata": {
        "colab_type": "code",
        "id": "v0K2kJWrCx7Z",
        "colab": {}
      },
      "source": [
        "# Import mean_squared_error and ARIMA\n",
        "from sklearn.metrics import mean_squared_error\n",
        "from statsmodels.tsa.arima_model import ARIMA"
      ],
      "execution_count": null,
      "outputs": []
    },
    {
      "cell_type": "markdown",
      "metadata": {
        "colab_type": "text",
        "id": "6TZZyQ91DOmE"
      },
      "source": [
        "Build a third model with different parameters."
      ]
    },
    {
      "cell_type": "code",
      "metadata": {
        "colab_type": "code",
        "id": "h4aZ2nJBDOmE",
        "colab": {},
        "outputId": "ed9cb229-c091-454b-c382-9933256d219c"
      },
      "source": [
        "p=1\n",
        "d=2\n",
        "q=1\n",
        "model = ARIMA(df_train, order=(p,d,q))\n",
        "model_fit = model.fit()\n",
        "model_fit.summary()"
      ],
      "execution_count": null,
      "outputs": [
        {
          "output_type": "execute_result",
          "data": {
            "text/html": [
              "<table class=\"simpletable\">\n",
              "<caption>ARIMA Model Results</caption>\n",
              "<tr>\n",
              "  <th>Dep. Variable:</th>   <td>D2.confirmed</td>   <th>  No. Observations:  </th>    <td>58</td>   \n",
              "</tr>\n",
              "<tr>\n",
              "  <th>Model:</th>          <td>ARIMA(1, 2, 1)</td>  <th>  Log Likelihood     </th> <td>-568.405</td>\n",
              "</tr>\n",
              "<tr>\n",
              "  <th>Method:</th>             <td>css-mle</td>     <th>  S.D. of innovations</th> <td>4352.241</td>\n",
              "</tr>\n",
              "<tr>\n",
              "  <th>Date:</th>          <td>Sat, 30 May 2020</td> <th>  AIC                </th> <td>1144.809</td>\n",
              "</tr>\n",
              "<tr>\n",
              "  <th>Time:</th>              <td>19:43:17</td>     <th>  BIC                </th> <td>1153.051</td>\n",
              "</tr>\n",
              "<tr>\n",
              "  <th>Sample:</th>           <td>03-17-2020</td>    <th>  HQIC               </th> <td>1148.019</td>\n",
              "</tr>\n",
              "<tr>\n",
              "  <th></th>                 <td>- 05-13-2020</td>   <th>                     </th>     <td> </td>   \n",
              "</tr>\n",
              "</table>\n",
              "<table class=\"simpletable\">\n",
              "<tr>\n",
              "           <td></td>             <th>coef</th>     <th>std err</th>      <th>z</th>      <th>P>|z|</th>  <th>[0.025</th>    <th>0.975]</th>  \n",
              "</tr>\n",
              "<tr>\n",
              "  <th>const</th>              <td>  353.6625</td> <td>  322.630</td> <td>    1.096</td> <td> 0.278</td> <td> -278.681</td> <td>  986.006</td>\n",
              "</tr>\n",
              "<tr>\n",
              "  <th>ar.L1.D2.confirmed</th> <td>   -0.2642</td> <td>    0.276</td> <td>   -0.956</td> <td> 0.343</td> <td>   -0.806</td> <td>    0.278</td>\n",
              "</tr>\n",
              "<tr>\n",
              "  <th>ma.L1.D2.confirmed</th> <td>   -0.2940</td> <td>    0.288</td> <td>   -1.020</td> <td> 0.312</td> <td>   -0.859</td> <td>    0.271</td>\n",
              "</tr>\n",
              "</table>\n",
              "<table class=\"simpletable\">\n",
              "<caption>Roots</caption>\n",
              "<tr>\n",
              "    <td></td>   <th>            Real</th>  <th>         Imaginary</th> <th>         Modulus</th>  <th>        Frequency</th>\n",
              "</tr>\n",
              "<tr>\n",
              "  <th>AR.1</th> <td>          -3.7847</td> <td>          +0.0000j</td> <td>           3.7847</td> <td>           0.5000</td>\n",
              "</tr>\n",
              "<tr>\n",
              "  <th>MA.1</th> <td>           3.4011</td> <td>          +0.0000j</td> <td>           3.4011</td> <td>           0.0000</td>\n",
              "</tr>\n",
              "</table>"
            ],
            "text/plain": [
              "<class 'statsmodels.iolib.summary.Summary'>\n",
              "\"\"\"\n",
              "                             ARIMA Model Results                              \n",
              "==============================================================================\n",
              "Dep. Variable:           D2.confirmed   No. Observations:                   58\n",
              "Model:                 ARIMA(1, 2, 1)   Log Likelihood                -568.405\n",
              "Method:                       css-mle   S.D. of innovations           4352.241\n",
              "Date:                Sat, 30 May 2020   AIC                           1144.809\n",
              "Time:                        19:43:17   BIC                           1153.051\n",
              "Sample:                    03-17-2020   HQIC                          1148.019\n",
              "                         - 05-13-2020                                         \n",
              "======================================================================================\n",
              "                         coef    std err          z      P>|z|      [0.025      0.975]\n",
              "--------------------------------------------------------------------------------------\n",
              "const                353.6625    322.630      1.096      0.278    -278.681     986.006\n",
              "ar.L1.D2.confirmed    -0.2642      0.276     -0.956      0.343      -0.806       0.278\n",
              "ma.L1.D2.confirmed    -0.2940      0.288     -1.020      0.312      -0.859       0.271\n",
              "                                    Roots                                    \n",
              "=============================================================================\n",
              "                  Real          Imaginary           Modulus         Frequency\n",
              "-----------------------------------------------------------------------------\n",
              "AR.1           -3.7847           +0.0000j            3.7847            0.5000\n",
              "MA.1            3.4011           +0.0000j            3.4011            0.0000\n",
              "-----------------------------------------------------------------------------\n",
              "\"\"\""
            ]
          },
          "metadata": {
            "tags": []
          },
          "execution_count": 133
        }
      ]
    },
    {
      "cell_type": "code",
      "metadata": {
        "colab_type": "code",
        "id": "rmxbOq_tDOmH",
        "colab": {},
        "outputId": "b203f25e-20e1-4caa-afe9-43d68b302604"
      },
      "source": [
        "# Forecast\n",
        "fc, se, conf = model_fit.forecast(16, alpha=0.05)  # 95% conf\n",
        "\n",
        "# Make as pandas series\n",
        "fc_series = pd.Series(fc, index=df_test.index)\n",
        "lower_series = pd.Series(conf[:, 0], index=df_test.index)\n",
        "upper_series = pd.Series(conf[:, 1], index=df_test.index)\n",
        "\n",
        "# Plot\n",
        "plt.figure(figsize=(12,5), dpi=100)\n",
        "plt.plot(df_train, label='training')\n",
        "plt.plot(df_test, label='actual')\n",
        "plt.plot(fc_series, label='forecast')\n",
        "plt.fill_between(lower_series.index, lower_series, upper_series, \n",
        "                 color='k', alpha=.15)\n",
        "plt.title('Forecast vs Actuals')\n",
        "plt.legend(loc='upper left', fontsize=8)\n",
        "plt.show()"
      ],
      "execution_count": null,
      "outputs": [
        {
          "output_type": "display_data",
          "data": {
            "image/png": "[encoded data removed]",
            "text/plain": [
              "<Figure size 1200x500 with 1 Axes>"
            ]
          },
          "metadata": {
            "tags": []
          }
        }
      ]
    },
    {
      "cell_type": "code",
      "metadata": {
        "id": "YCc6J1l34MK6",
        "colab_type": "code",
        "colab": {},
        "outputId": "fa42231d-6f43-4524-80b1-d46fef4710d5"
      },
      "source": [
        "from statsmodels.graphics.tsaplots import plot_acf, plot_pacf\n",
        "# Accuracy metrics\n",
        "def forecast_accuracy(forecast, actual):\n",
        "    mape = np.mean(np.abs(forecast - actual)/np.abs(actual))  # MAPE\n",
        "    me = np.mean(forecast - actual)             # ME\n",
        "    mae = np.mean(np.abs(forecast - actual))    # MAE\n",
        "    mpe = np.mean((forecast - actual)/actual)   # MPE\n",
        "    rmse = np.mean((forecast - actual)**2)**.5  # RMSE\n",
        "    corr = np.corrcoef(forecast, actual)[0,1]   # corr\n",
        "    mins = np.amin(np.hstack([forecast[:,None], \n",
        "                              actual[:,None]]), axis=1)\n",
        "    maxs = np.amax(np.hstack([forecast[:,None], \n",
        "                              actual[:,None]]), axis=1)\n",
        "    minmax = 1 - np.mean(mins/maxs)             # minmax\n",
        "    accuracy = 100 - np.mean(mape)\n",
        "    return({'mape':mape, 'me':me, 'mae': mae, \n",
        "            'mpe': mpe, 'rmse':rmse, \n",
        "            'corr':corr, 'minmax':minmax, 'accuracy':accuracy})\n",
        "\n",
        "forecast_accuracy(fc, df_test['confirmed'].values)"
      ],
      "execution_count": null,
      "outputs": [
        {
          "output_type": "execute_result",
          "data": {
            "text/plain": [
              "{'mape': 0.009578894037522923,\n",
              " 'me': 15734.670501095025,\n",
              " 'mae': 16045.880791781834,\n",
              " 'mpe': 0.00936415728677182,\n",
              " 'rmse': 22804.813617452273,\n",
              " 'corr': 0.9985710319198426,\n",
              " 'minmax': 0.009404045151422125,\n",
              " 'accuracy': 99.99042110596248}"
            ]
          },
          "metadata": {
            "tags": []
          },
          "execution_count": 167
        }
      ]
    },
    {
      "cell_type": "markdown",
      "metadata": {
        "id": "x6uHbZNt4MK8",
        "colab_type": "text"
      },
      "source": [
        "## Forecast 60 days out from end of training data"
      ]
    },
    {
      "cell_type": "code",
      "metadata": {
        "id": "t6gIFap14MK9",
        "colab_type": "code",
        "colab": {},
        "outputId": "6a28bedd-4348-4141-9a00-d8b47e6b4bba"
      },
      "source": [
        "#forecast for another 60 days\n",
        "# Forecast\n",
        "fc, se, conf = model_fit.forecast(60, alpha=0.05)  # 95% conf\n",
        "#create 60 day index for plotting\n",
        "rng = pd.date_range(start='2020-05-14', end='2020-07-12', freq='D')\n",
        "# Make as pandas series\n",
        "fc_series = pd.Series(fc, index=rng)\n",
        "lower_series = pd.Series(conf[:, 0], index=rng)\n",
        "upper_series = pd.Series(conf[:, 1], index=rng)\n",
        "\n",
        "# Plot\n",
        "plt.figure(figsize=(12,5), dpi=100)\n",
        "plt.plot(fc_series, label='forecast')\n",
        "plt.fill_between(lower_series.index, lower_series, upper_series, \n",
        "                 color='k', alpha=.15)\n",
        "plt.title('Confirmed Cases for US Forecast through July 13, 2020')\n",
        "plt.legend(loc='upper left', fontsize=8)\n",
        "plt.show()"
      ],
      "execution_count": null,
      "outputs": [
        {
          "output_type": "display_data",
          "data": {
            "image/png": "[encoded data removed]",
            "text/plain": [
              "<Figure size 1200x500 with 1 Axes>"
            ]
          },
          "metadata": {
            "tags": []
          }
        }
      ]
    },
    {
      "cell_type": "code",
      "metadata": {
        "id": "7VNm9Zff4MK_",
        "colab_type": "code",
        "colab": {},
        "outputId": "687f6fe4-5b0c-4da4-ba02-8723f912dc85"
      },
      "source": [
        "df_60 = pd.DataFrame(fc, index=rng)\n",
        "df_60.tail()"
      ],
      "execution_count": null,
      "outputs": [
        {
          "output_type": "execute_result",
          "data": {
            "text/html": [
              "<div>\n",
              "<style scoped>\n",
              "    .dataframe tbody tr th:only-of-type {\n",
              "        vertical-align: middle;\n",
              "    }\n",
              "\n",
              "    .dataframe tbody tr th {\n",
              "        vertical-align: top;\n",
              "    }\n",
              "\n",
              "    .dataframe thead th {\n",
              "        text-align: right;\n",
              "    }\n",
              "</style>\n",
              "<table border=\"1\" class=\"dataframe\">\n",
              "  <thead>\n",
              "    <tr style=\"text-align: right;\">\n",
              "      <th></th>\n",
              "      <th>0</th>\n",
              "    </tr>\n",
              "  </thead>\n",
              "  <tbody>\n",
              "    <tr>\n",
              "      <th>2020-07-08</th>\n",
              "      <td>3.187855e+06</td>\n",
              "    </tr>\n",
              "    <tr>\n",
              "      <th>2020-07-09</th>\n",
              "      <td>3.229928e+06</td>\n",
              "    </tr>\n",
              "    <tr>\n",
              "      <th>2020-07-10</th>\n",
              "      <td>3.272355e+06</td>\n",
              "    </tr>\n",
              "    <tr>\n",
              "      <th>2020-07-11</th>\n",
              "      <td>3.315136e+06</td>\n",
              "    </tr>\n",
              "    <tr>\n",
              "      <th>2020-07-12</th>\n",
              "      <td>3.358270e+06</td>\n",
              "    </tr>\n",
              "  </tbody>\n",
              "</table>\n",
              "</div>"
            ],
            "text/plain": [
              "                       0\n",
              "2020-07-08  3.187855e+06\n",
              "2020-07-09  3.229928e+06\n",
              "2020-07-10  3.272355e+06\n",
              "2020-07-11  3.315136e+06\n",
              "2020-07-12  3.358270e+06"
            ]
          },
          "metadata": {
            "tags": []
          },
          "execution_count": 189
        }
      ]
    },
    {
      "cell_type": "markdown",
      "metadata": {
        "id": "DrNT5EYp4MLB",
        "colab_type": "text"
      },
      "source": [
        "# Compare to Deaths"
      ]
    },
    {
      "cell_type": "code",
      "metadata": {
        "id": "CFMkf3fv4MLB",
        "colab_type": "code",
        "colab": {},
        "outputId": "44cb0289-925d-4764-ac39-74cfbfa88c39"
      },
      "source": [
        "#create timeseries data, so only date and confirmed cases data frame.\n",
        "df_confirmed = df_confirmed[df_confirmed['country_region']=='US']\n",
        "cdf = df_confirmed[['timestamp.date', 'deaths']]\n",
        "cdf['date'] = pd.to_datetime(cdf['timestamp.date'])\n",
        "cdf.sort_values(by ='date', inplace=True,ascending =True)\n",
        "cdf = cdf.drop('timestamp.date', axis =1)\n",
        "cdf.set_index('date', inplace = True)"
      ],
      "execution_count": null,
      "outputs": [
        {
          "output_type": "stream",
          "text": [
            "/home/ubuntu/anaconda3/lib/python3.6/site-packages/ipykernel_launcher.py:4: SettingWithCopyWarning:\n",
            "\n",
            "\n",
            "A value is trying to be set on a copy of a slice from a DataFrame.\n",
            "Try using .loc[row_indexer,col_indexer] = value instead\n",
            "\n",
            "See the caveats in the documentation: http://pandas.pydata.org/pandas-docs/stable/indexing.html#indexing-view-versus-copy\n",
            "\n",
            "/home/ubuntu/anaconda3/lib/python3.6/site-packages/ipykernel_launcher.py:5: SettingWithCopyWarning:\n",
            "\n",
            "\n",
            "A value is trying to be set on a copy of a slice from a DataFrame\n",
            "\n",
            "See the caveats in the documentation: http://pandas.pydata.org/pandas-docs/stable/indexing.html#indexing-view-versus-copy\n",
            "\n"
          ],
          "name": "stderr"
        }
      ]
    },
    {
      "cell_type": "code",
      "metadata": {
        "id": "-bYyexAv4MLD",
        "colab_type": "code",
        "colab": {}
      },
      "source": [
        "cdf = cdf.asfreq('D')"
      ],
      "execution_count": null,
      "outputs": []
    },
    {
      "cell_type": "code",
      "metadata": {
        "id": "yRYYuVpm4MLF",
        "colab_type": "code",
        "colab": {}
      },
      "source": [
        "cdf['deaths'] = pd.to_numeric(cdf['deaths'])\n",
        "cdf = cdf.interpolate(method='linear', limit_direction='forward')"
      ],
      "execution_count": null,
      "outputs": []
    },
    {
      "cell_type": "code",
      "metadata": {
        "id": "fhiehjhA4MLH",
        "colab_type": "code",
        "colab": {}
      },
      "source": [
        "df_train, df_test = train_test_split(cdf, test_size=0.2, shuffle=False)"
      ],
      "execution_count": null,
      "outputs": []
    },
    {
      "cell_type": "code",
      "metadata": {
        "id": "AiTiE6w84MLJ",
        "colab_type": "code",
        "colab": {},
        "outputId": "fec7a288-9b1f-49b6-d8a2-19ab86e6e2d4"
      },
      "source": [
        "p=1\n",
        "d=2\n",
        "q=1\n",
        "model = ARIMA(df_train, order=(p,d,q))\n",
        "model_fit = model.fit()\n",
        "model_fit.summary()"
      ],
      "execution_count": null,
      "outputs": [
        {
          "output_type": "execute_result",
          "data": {
            "text/html": [
              "<table class=\"simpletable\">\n",
              "<caption>ARIMA Model Results</caption>\n",
              "<tr>\n",
              "  <th>Dep. Variable:</th>     <td>D2.deaths</td>    <th>  No. Observations:  </th>    <td>58</td>   \n",
              "</tr>\n",
              "<tr>\n",
              "  <th>Model:</th>          <td>ARIMA(1, 2, 1)</td>  <th>  Log Likelihood     </th> <td>-444.406</td>\n",
              "</tr>\n",
              "<tr>\n",
              "  <th>Method:</th>             <td>css-mle</td>     <th>  S.D. of innovations</th>  <td>513.182</td>\n",
              "</tr>\n",
              "<tr>\n",
              "  <th>Date:</th>          <td>Sat, 30 May 2020</td> <th>  AIC                </th>  <td>896.812</td>\n",
              "</tr>\n",
              "<tr>\n",
              "  <th>Time:</th>              <td>20:45:02</td>     <th>  BIC                </th>  <td>905.054</td>\n",
              "</tr>\n",
              "<tr>\n",
              "  <th>Sample:</th>           <td>03-17-2020</td>    <th>  HQIC               </th>  <td>900.023</td>\n",
              "</tr>\n",
              "<tr>\n",
              "  <th></th>                 <td>- 05-13-2020</td>   <th>                     </th>     <td> </td>   \n",
              "</tr>\n",
              "</table>\n",
              "<table class=\"simpletable\">\n",
              "<tr>\n",
              "         <td></td>            <th>coef</th>     <th>std err</th>      <th>z</th>      <th>P>|z|</th>  <th>[0.025</th>    <th>0.975]</th>  \n",
              "</tr>\n",
              "<tr>\n",
              "  <th>const</th>           <td>   27.8385</td> <td>   28.049</td> <td>    0.993</td> <td> 0.325</td> <td>  -27.136</td> <td>   82.813</td>\n",
              "</tr>\n",
              "<tr>\n",
              "  <th>ar.L1.D2.deaths</th> <td>    0.4776</td> <td>    0.181</td> <td>    2.638</td> <td> 0.011</td> <td>    0.123</td> <td>    0.833</td>\n",
              "</tr>\n",
              "<tr>\n",
              "  <th>ma.L1.D2.deaths</th> <td>   -0.7946</td> <td>    0.115</td> <td>   -6.908</td> <td> 0.000</td> <td>   -1.020</td> <td>   -0.569</td>\n",
              "</tr>\n",
              "</table>\n",
              "<table class=\"simpletable\">\n",
              "<caption>Roots</caption>\n",
              "<tr>\n",
              "    <td></td>   <th>            Real</th>  <th>         Imaginary</th> <th>         Modulus</th>  <th>        Frequency</th>\n",
              "</tr>\n",
              "<tr>\n",
              "  <th>AR.1</th> <td>           2.0937</td> <td>          +0.0000j</td> <td>           2.0937</td> <td>           0.0000</td>\n",
              "</tr>\n",
              "<tr>\n",
              "  <th>MA.1</th> <td>           1.2585</td> <td>          +0.0000j</td> <td>           1.2585</td> <td>           0.0000</td>\n",
              "</tr>\n",
              "</table>"
            ],
            "text/plain": [
              "<class 'statsmodels.iolib.summary.Summary'>\n",
              "\"\"\"\n",
              "                             ARIMA Model Results                              \n",
              "==============================================================================\n",
              "Dep. Variable:              D2.deaths   No. Observations:                   58\n",
              "Model:                 ARIMA(1, 2, 1)   Log Likelihood                -444.406\n",
              "Method:                       css-mle   S.D. of innovations            513.182\n",
              "Date:                Sat, 30 May 2020   AIC                            896.812\n",
              "Time:                        20:45:02   BIC                            905.054\n",
              "Sample:                    03-17-2020   HQIC                           900.023\n",
              "                         - 05-13-2020                                         \n",
              "===================================================================================\n",
              "                      coef    std err          z      P>|z|      [0.025      0.975]\n",
              "-----------------------------------------------------------------------------------\n",
              "const              27.8385     28.049      0.993      0.325     -27.136      82.813\n",
              "ar.L1.D2.deaths     0.4776      0.181      2.638      0.011       0.123       0.833\n",
              "ma.L1.D2.deaths    -0.7946      0.115     -6.908      0.000      -1.020      -0.569\n",
              "                                    Roots                                    \n",
              "=============================================================================\n",
              "                  Real          Imaginary           Modulus         Frequency\n",
              "-----------------------------------------------------------------------------\n",
              "AR.1            2.0937           +0.0000j            2.0937            0.0000\n",
              "MA.1            1.2585           +0.0000j            1.2585            0.0000\n",
              "-----------------------------------------------------------------------------\n",
              "\"\"\""
            ]
          },
          "metadata": {
            "tags": []
          },
          "execution_count": 197
        }
      ]
    },
    {
      "cell_type": "code",
      "metadata": {
        "id": "B-Qi_Dzf4MLL",
        "colab_type": "code",
        "colab": {},
        "outputId": "34c9efca-be80-474c-d65a-9ef620d3da87"
      },
      "source": [
        "# Forecast\n",
        "fc, se, conf = model_fit.forecast(16, alpha=0.05)  # 95% conf\n",
        "\n",
        "# Make as pandas series\n",
        "fc_series = pd.Series(fc, index=df_test.index)\n",
        "lower_series = pd.Series(conf[:, 0], index=df_test.index)\n",
        "upper_series = pd.Series(conf[:, 1], index=df_test.index)\n",
        "\n",
        "# Plot\n",
        "plt.figure(figsize=(12,5), dpi=100)\n",
        "plt.plot(df_train, label='training')\n",
        "plt.plot(df_test, label='actual')\n",
        "plt.plot(fc_series, label='forecast')\n",
        "plt.fill_between(lower_series.index, lower_series, upper_series, \n",
        "                 color='k', alpha=.15)\n",
        "plt.title('Forecast vs Actuals')\n",
        "plt.legend(loc='upper left', fontsize=8)\n",
        "plt.show()"
      ],
      "execution_count": null,
      "outputs": [
        {
          "output_type": "display_data",
          "data": {
            "image/png": "[encoded data removed]",
            "text/plain": [
              "<Figure size 1200x500 with 1 Axes>"
            ]
          },
          "metadata": {
            "tags": []
          }
        }
      ]
    },
    {
      "cell_type": "code",
      "metadata": {
        "id": "SC6wC-J04MLN",
        "colab_type": "code",
        "colab": {},
        "outputId": "1875dd5f-43d1-4e9f-cf9a-3d4cce542762"
      },
      "source": [
        "forecast_accuracy(fc, df_test['deaths'].values)"
      ],
      "execution_count": null,
      "outputs": [
        {
          "output_type": "execute_result",
          "data": {
            "text/plain": [
              "{'mape': 0.04943892316572175,\n",
              " 'me': 4855.740835696191,\n",
              " 'mae': 4855.740835696191,\n",
              " 'mpe': 0.04943892316572175,\n",
              " 'rmse': 6067.068503555011,\n",
              " 'corr': 0.9945974010164587,\n",
              " 'minmax': 0.04602709423413209,\n",
              " 'accuracy': 99.95056107683428}"
            ]
          },
          "metadata": {
            "tags": []
          },
          "execution_count": 200
        }
      ]
    },
    {
      "cell_type": "code",
      "metadata": {
        "id": "EY1S6cDi4MLP",
        "colab_type": "code",
        "colab": {},
        "outputId": "e5a37f89-5ae2-40b2-faf3-d8ec864fc231"
      },
      "source": [
        "#forecast until November 2\n",
        "# Forecast\n",
        "fc, se, conf = model_fit.forecast(172, alpha=0.05)  # 95% conf\n",
        "#create 172 day index for plotting\n",
        "rng = pd.date_range(start='2020-05-15', end='2020-11-02', freq='D')\n",
        "# Make as pandas series\n",
        "fc_series = pd.Series(fc, index=rng)\n",
        "lower_series = pd.Series(conf[:, 0], index=rng)\n",
        "upper_series = pd.Series(conf[:, 1], index=rng)\n",
        "\n",
        "# Plot\n",
        "plt.figure(figsize=(12,5), dpi=100)\n",
        "plt.plot(fc_series, label='forecast')\n",
        "plt.fill_between(lower_series.index, lower_series, upper_series, \n",
        "                 color='k', alpha=.15)\n",
        "plt.title('US Forecast COVID19 Deaths May 15, 2020 through November 2, 2020')\n",
        "plt.show()"
      ],
      "execution_count": null,
      "outputs": [
        {
          "output_type": "display_data",
          "data": {
            "image/png": "[encoded data removed]",
            "text/plain": [
              "<Figure size 1200x500 with 1 Axes>"
            ]
          },
          "metadata": {
            "tags": []
          }
        }
      ]
    },
    {
      "cell_type": "markdown",
      "metadata": {
        "id": "GheecfSz4MLU",
        "colab_type": "text"
      },
      "source": [
        "Summarizing the forecasted deaths."
      ]
    },
    {
      "cell_type": "code",
      "metadata": {
        "id": "yv-0UYVH4MLU",
        "colab_type": "code",
        "colab": {},
        "outputId": "7b3a9048-48fb-4148-b858-283bb3891248"
      },
      "source": [
        "print('Forecast US deaths count for 11/2/2020: '+ str(round(fc_series[-1],2)))\n",
        "print('Forecast US deaths high count for 11/2/2020: '+ str(round(upper_series[-1],2)))\n",
        "print('Forecast US deaths low count for 11/2/2020: '+ str(round(lower_series[-1],2)))"
      ],
      "execution_count": null,
      "outputs": [
        {
          "output_type": "stream",
          "text": [
            "Forecast US deaths count for 11/2/2020: 777956.52\n",
            "Forecast US deaths high count for 11/2/2020: 1308640.94\n",
            "Forecast US deaths low count for 11/2/2020: 247272.11\n"
          ],
          "name": "stdout"
        }
      ]
    },
    {
      "cell_type": "markdown",
      "metadata": {
        "id": "K1d5-3Y64MLW",
        "colab_type": "text"
      },
      "source": [
        "Forecast for 365 days out."
      ]
    },
    {
      "cell_type": "code",
      "metadata": {
        "id": "pIzoyuqK4MLX",
        "colab_type": "code",
        "colab": {},
        "outputId": "3d2ef34f-2f9f-4399-dae3-834cb36208ec"
      },
      "source": [
        "#forecast for 365 out\n",
        "# Forecast\n",
        "fc, se, conf = model_fit.forecast(365, alpha=0.05)  # 95% conf\n",
        "#create index for plotting\n",
        "rng = pd.date_range(start='2020-05-15', end='2021-05-14', freq='D')\n",
        "# Make as pandas series\n",
        "fc_series = pd.Series(fc, index=rng)\n",
        "lower_series = pd.Series(conf[:, 0], index=rng)\n",
        "upper_series = pd.Series(conf[:, 1], index=rng)\n",
        "\n",
        "# Plot\n",
        "plt.figure(figsize=(12,5), dpi=100)\n",
        "plt.plot(fc_series, label='forecast')\n",
        "plt.fill_between(lower_series.index, lower_series, upper_series, \n",
        "                 color='k', alpha=.15)\n",
        "plt.title('US Forecast COVID19 Deaths May 15, 2020 through May 15, 2021')\n",
        "plt.show()"
      ],
      "execution_count": null,
      "outputs": [
        {
          "output_type": "display_data",
          "data": {
            "image/png": "[encoded data removed]",
            "text/plain": [
              "<Figure size 1200x500 with 1 Axes>"
            ]
          },
          "metadata": {
            "tags": []
          }
        }
      ]
    },
    {
      "cell_type": "code",
      "metadata": {
        "id": "uzRgLwS04MLZ",
        "colab_type": "code",
        "colab": {},
        "outputId": "f76a8673-c70c-4510-8f7f-1dfd6e7e92a3"
      },
      "source": [
        "print('Forecast US deaths count for 05/15/2021: '+ str(round(fc_series[-1],2)))\n",
        "print('Forecast US deaths high count for 05/15/2021: '+ str(round(upper_series[-1],2)))\n",
        "print('Forecast US deaths low count for 05/15/2021: '+ str(round(lower_series[-1],2)))"
      ],
      "execution_count": null,
      "outputs": [
        {
          "output_type": "stream",
          "text": [
            "Forecast US deaths count for 05/15/2021: 2536855.7\n",
            "Forecast US deaths high count for 05/15/2021: 4151852.42\n",
            "Forecast US deaths low count for 05/15/2021: 921858.98\n"
          ],
          "name": "stdout"
        }
      ]
    },
    {
      "cell_type": "code",
      "metadata": {
        "id": "IgYYoieI4MLc",
        "colab_type": "code",
        "colab": {}
      },
      "source": [
        ""
      ],
      "execution_count": null,
      "outputs": []
    }
  ]
}